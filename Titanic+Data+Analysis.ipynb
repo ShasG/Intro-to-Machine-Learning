{
 "cells": [
  {
   "cell_type": "markdown",
   "metadata": {
    "collapsed": true
   },
   "source": [
    "# Analysis on Titanic Data\n",
    "\n",
    "I have choosen the 'Titanic Data' to analyse. \n",
    "The given file for this project contains passengers details of Titanic ship. We can explore to find the survival rate of passengers based on the data available to us. We have individual's age, sex, class(social standard based on ticket fare) and family members's count in the file. Also the port of embarkation is available to us. we will check the survival rate of passnegers based on above available details. Below are some questions for which we can find answers from the given file.\n",
    "1. How is age related to the survived passengers? Passengers of which age has died most?\n",
    "2. Who are the main victim, male or female?\n",
    "3. How the class of any passnger is related to their survival chance?\n",
    "4. Is ticket fare has any relation to the survival rate? If yes, how is that relation?\n",
    "5. Is there any luck to passengers with family members compared to single passengers?\n",
    "6. Passengers of which port have survived the most?\n",
    "7. Is there any relation between cabin or ticket number with survival rate of passengers?\n",
    "\n",
    "We will try to find the answers for above questions in below analysis."
   ]
  },
  {
   "cell_type": "code",
   "execution_count": 1,
   "metadata": {
    "collapsed": true
   },
   "outputs": [],
   "source": [
    "#Importing some required libraries\n",
    "import pandas as pd\n",
    "import numpy as np\n",
    "import matplotlib.pyplot as plt\n",
    "%matplotlib inline"
   ]
  },
  {
   "cell_type": "code",
   "execution_count": 2,
   "metadata": {},
   "outputs": [
    {
     "data": {
      "text/html": [
       "<div>\n",
       "<style>\n",
       "    .dataframe thead tr:only-child th {\n",
       "        text-align: right;\n",
       "    }\n",
       "\n",
       "    .dataframe thead th {\n",
       "        text-align: left;\n",
       "    }\n",
       "\n",
       "    .dataframe tbody tr th {\n",
       "        vertical-align: top;\n",
       "    }\n",
       "</style>\n",
       "<table border=\"1\" class=\"dataframe\">\n",
       "  <thead>\n",
       "    <tr style=\"text-align: right;\">\n",
       "      <th></th>\n",
       "      <th>PassengerId</th>\n",
       "      <th>Survived</th>\n",
       "      <th>Pclass</th>\n",
       "      <th>Name</th>\n",
       "      <th>Sex</th>\n",
       "      <th>Age</th>\n",
       "      <th>SibSp</th>\n",
       "      <th>Parch</th>\n",
       "      <th>Ticket</th>\n",
       "      <th>Fare</th>\n",
       "      <th>Cabin</th>\n",
       "      <th>Embarked</th>\n",
       "    </tr>\n",
       "  </thead>\n",
       "  <tbody>\n",
       "    <tr>\n",
       "      <th>0</th>\n",
       "      <td>1</td>\n",
       "      <td>0</td>\n",
       "      <td>3</td>\n",
       "      <td>Braund, Mr. Owen Harris</td>\n",
       "      <td>male</td>\n",
       "      <td>22.0</td>\n",
       "      <td>1</td>\n",
       "      <td>0</td>\n",
       "      <td>A/5 21171</td>\n",
       "      <td>7.2500</td>\n",
       "      <td>NaN</td>\n",
       "      <td>S</td>\n",
       "    </tr>\n",
       "    <tr>\n",
       "      <th>1</th>\n",
       "      <td>2</td>\n",
       "      <td>1</td>\n",
       "      <td>1</td>\n",
       "      <td>Cumings, Mrs. John Bradley (Florence Briggs Th...</td>\n",
       "      <td>female</td>\n",
       "      <td>38.0</td>\n",
       "      <td>1</td>\n",
       "      <td>0</td>\n",
       "      <td>PC 17599</td>\n",
       "      <td>71.2833</td>\n",
       "      <td>C85</td>\n",
       "      <td>C</td>\n",
       "    </tr>\n",
       "    <tr>\n",
       "      <th>2</th>\n",
       "      <td>3</td>\n",
       "      <td>1</td>\n",
       "      <td>3</td>\n",
       "      <td>Heikkinen, Miss. Laina</td>\n",
       "      <td>female</td>\n",
       "      <td>26.0</td>\n",
       "      <td>0</td>\n",
       "      <td>0</td>\n",
       "      <td>STON/O2. 3101282</td>\n",
       "      <td>7.9250</td>\n",
       "      <td>NaN</td>\n",
       "      <td>S</td>\n",
       "    </tr>\n",
       "    <tr>\n",
       "      <th>3</th>\n",
       "      <td>4</td>\n",
       "      <td>1</td>\n",
       "      <td>1</td>\n",
       "      <td>Futrelle, Mrs. Jacques Heath (Lily May Peel)</td>\n",
       "      <td>female</td>\n",
       "      <td>35.0</td>\n",
       "      <td>1</td>\n",
       "      <td>0</td>\n",
       "      <td>113803</td>\n",
       "      <td>53.1000</td>\n",
       "      <td>C123</td>\n",
       "      <td>S</td>\n",
       "    </tr>\n",
       "    <tr>\n",
       "      <th>4</th>\n",
       "      <td>5</td>\n",
       "      <td>0</td>\n",
       "      <td>3</td>\n",
       "      <td>Allen, Mr. William Henry</td>\n",
       "      <td>male</td>\n",
       "      <td>35.0</td>\n",
       "      <td>0</td>\n",
       "      <td>0</td>\n",
       "      <td>373450</td>\n",
       "      <td>8.0500</td>\n",
       "      <td>NaN</td>\n",
       "      <td>S</td>\n",
       "    </tr>\n",
       "  </tbody>\n",
       "</table>\n",
       "</div>"
      ],
      "text/plain": [
       "   PassengerId  Survived  Pclass  \\\n",
       "0            1         0       3   \n",
       "1            2         1       1   \n",
       "2            3         1       3   \n",
       "3            4         1       1   \n",
       "4            5         0       3   \n",
       "\n",
       "                                                Name     Sex   Age  SibSp  \\\n",
       "0                            Braund, Mr. Owen Harris    male  22.0      1   \n",
       "1  Cumings, Mrs. John Bradley (Florence Briggs Th...  female  38.0      1   \n",
       "2                             Heikkinen, Miss. Laina  female  26.0      0   \n",
       "3       Futrelle, Mrs. Jacques Heath (Lily May Peel)  female  35.0      1   \n",
       "4                           Allen, Mr. William Henry    male  35.0      0   \n",
       "\n",
       "   Parch            Ticket     Fare Cabin Embarked  \n",
       "0      0         A/5 21171   7.2500   NaN        S  \n",
       "1      0          PC 17599  71.2833   C85        C  \n",
       "2      0  STON/O2. 3101282   7.9250   NaN        S  \n",
       "3      0            113803  53.1000  C123        S  \n",
       "4      0            373450   8.0500   NaN        S  "
      ]
     },
     "execution_count": 2,
     "metadata": {},
     "output_type": "execute_result"
    }
   ],
   "source": [
    "#Read data for CSV file\n",
    "titanic_data = pd.read_csv('C:/Udacity/Python/titanic_data.csv')\n",
    "#Cheking the data sample\n",
    "titanic_data.head()"
   ]
  },
  {
   "cell_type": "code",
   "execution_count": 3,
   "metadata": {},
   "outputs": [
    {
     "data": {
      "text/plain": [
       "891"
      ]
     },
     "execution_count": 3,
     "metadata": {},
     "output_type": "execute_result"
    }
   ],
   "source": [
    "#Finding the row count of the file\n",
    "row_count = titanic_data.shape[0]\n",
    "row_count"
   ]
  },
  {
   "cell_type": "code",
   "execution_count": 4,
   "metadata": {},
   "outputs": [
    {
     "data": {
      "text/plain": [
       "708"
      ]
     },
     "execution_count": 4,
     "metadata": {},
     "output_type": "execute_result"
    }
   ],
   "source": [
    "#Find out how many records are having blank information in any of the field\n",
    "nans = lambda df: df[df.isnull().any(axis=1)]\n",
    "nans(titanic_data).shape[0]"
   ]
  },
  {
   "cell_type": "code",
   "execution_count": 5,
   "metadata": {},
   "outputs": [
    {
     "data": {
      "text/html": [
       "<div>\n",
       "<style>\n",
       "    .dataframe thead tr:only-child th {\n",
       "        text-align: right;\n",
       "    }\n",
       "\n",
       "    .dataframe thead th {\n",
       "        text-align: left;\n",
       "    }\n",
       "\n",
       "    .dataframe tbody tr th {\n",
       "        vertical-align: top;\n",
       "    }\n",
       "</style>\n",
       "<table border=\"1\" class=\"dataframe\">\n",
       "  <thead>\n",
       "    <tr style=\"text-align: right;\">\n",
       "      <th></th>\n",
       "      <th>PassengerId</th>\n",
       "      <th>Survived</th>\n",
       "      <th>Pclass</th>\n",
       "      <th>Name</th>\n",
       "      <th>Sex</th>\n",
       "      <th>Age</th>\n",
       "      <th>SibSp</th>\n",
       "      <th>Parch</th>\n",
       "      <th>Ticket</th>\n",
       "      <th>Fare</th>\n",
       "      <th>Cabin</th>\n",
       "      <th>Embarked</th>\n",
       "    </tr>\n",
       "  </thead>\n",
       "  <tbody>\n",
       "    <tr>\n",
       "      <th>0</th>\n",
       "      <td>1</td>\n",
       "      <td>0</td>\n",
       "      <td>3</td>\n",
       "      <td>Braund, Mr. Owen Harris</td>\n",
       "      <td>male</td>\n",
       "      <td>22.0</td>\n",
       "      <td>1</td>\n",
       "      <td>0</td>\n",
       "      <td>A/5 21171</td>\n",
       "      <td>7.2500</td>\n",
       "      <td>NaN</td>\n",
       "      <td>S</td>\n",
       "    </tr>\n",
       "    <tr>\n",
       "      <th>2</th>\n",
       "      <td>3</td>\n",
       "      <td>1</td>\n",
       "      <td>3</td>\n",
       "      <td>Heikkinen, Miss. Laina</td>\n",
       "      <td>female</td>\n",
       "      <td>26.0</td>\n",
       "      <td>0</td>\n",
       "      <td>0</td>\n",
       "      <td>STON/O2. 3101282</td>\n",
       "      <td>7.9250</td>\n",
       "      <td>NaN</td>\n",
       "      <td>S</td>\n",
       "    </tr>\n",
       "    <tr>\n",
       "      <th>4</th>\n",
       "      <td>5</td>\n",
       "      <td>0</td>\n",
       "      <td>3</td>\n",
       "      <td>Allen, Mr. William Henry</td>\n",
       "      <td>male</td>\n",
       "      <td>35.0</td>\n",
       "      <td>0</td>\n",
       "      <td>0</td>\n",
       "      <td>373450</td>\n",
       "      <td>8.0500</td>\n",
       "      <td>NaN</td>\n",
       "      <td>S</td>\n",
       "    </tr>\n",
       "    <tr>\n",
       "      <th>5</th>\n",
       "      <td>6</td>\n",
       "      <td>0</td>\n",
       "      <td>3</td>\n",
       "      <td>Moran, Mr. James</td>\n",
       "      <td>male</td>\n",
       "      <td>NaN</td>\n",
       "      <td>0</td>\n",
       "      <td>0</td>\n",
       "      <td>330877</td>\n",
       "      <td>8.4583</td>\n",
       "      <td>NaN</td>\n",
       "      <td>Q</td>\n",
       "    </tr>\n",
       "    <tr>\n",
       "      <th>7</th>\n",
       "      <td>8</td>\n",
       "      <td>0</td>\n",
       "      <td>3</td>\n",
       "      <td>Palsson, Master. Gosta Leonard</td>\n",
       "      <td>male</td>\n",
       "      <td>2.0</td>\n",
       "      <td>3</td>\n",
       "      <td>1</td>\n",
       "      <td>349909</td>\n",
       "      <td>21.0750</td>\n",
       "      <td>NaN</td>\n",
       "      <td>S</td>\n",
       "    </tr>\n",
       "  </tbody>\n",
       "</table>\n",
       "</div>"
      ],
      "text/plain": [
       "   PassengerId  Survived  Pclass                            Name     Sex  \\\n",
       "0            1         0       3         Braund, Mr. Owen Harris    male   \n",
       "2            3         1       3          Heikkinen, Miss. Laina  female   \n",
       "4            5         0       3        Allen, Mr. William Henry    male   \n",
       "5            6         0       3                Moran, Mr. James    male   \n",
       "7            8         0       3  Palsson, Master. Gosta Leonard    male   \n",
       "\n",
       "    Age  SibSp  Parch            Ticket     Fare Cabin Embarked  \n",
       "0  22.0      1      0         A/5 21171   7.2500   NaN        S  \n",
       "2  26.0      0      0  STON/O2. 3101282   7.9250   NaN        S  \n",
       "4  35.0      0      0            373450   8.0500   NaN        S  \n",
       "5   NaN      0      0            330877   8.4583   NaN        Q  \n",
       "7   2.0      3      1            349909  21.0750   NaN        S  "
      ]
     },
     "execution_count": 5,
     "metadata": {},
     "output_type": "execute_result"
    }
   ],
   "source": [
    "nans(titanic_data).head()"
   ]
  },
  {
   "cell_type": "markdown",
   "metadata": {},
   "source": [
    "There are 708 records having blank information in any one of the column. This number is huge compared to data provided to us. We can't remove all of these because of incompleteness. To find out the relation of survival rate with any of the parameter, we will remove those records having blank information for that particular parameter and do the analysis."
   ]
  },
  {
   "cell_type": "code",
   "execution_count": 6,
   "metadata": {},
   "outputs": [
    {
     "data": {
      "text/plain": [
       "0    549\n",
       "1    342\n",
       "Name: Survived, dtype: int64"
      ]
     },
     "execution_count": 6,
     "metadata": {},
     "output_type": "execute_result"
    }
   ],
   "source": [
    "titanic_data['Survived'].value_counts()"
   ]
  },
  {
   "cell_type": "code",
   "execution_count": 7,
   "metadata": {},
   "outputs": [
    {
     "name": "stdout",
     "output_type": "stream",
     "text": [
      "0\n"
     ]
    }
   ],
   "source": [
    "#Quick check on value we found by comparing their summation.\n",
    "survived_data_error = titanic_data[pd.isnull(titanic_data['Survived'])]\n",
    "print(survived_data_error.shape[0])"
   ]
  },
  {
   "cell_type": "markdown",
   "metadata": {},
   "source": [
    "Hence all the records in the file having value of 'Survived' field."
   ]
  },
  {
   "cell_type": "markdown",
   "metadata": {},
   "source": [
    "# First we will find the relation between survived passengers and their 'Age'.\n",
    "So now we need to find if there is any error in age details of passenger list."
   ]
  },
  {
   "cell_type": "code",
   "execution_count": 8,
   "metadata": {},
   "outputs": [
    {
     "name": "stdout",
     "output_type": "stream",
     "text": [
      "(342, 549)\n"
     ]
    }
   ],
   "source": [
    "#Finding the overall survided and dead count\n",
    "survived_passenger_count = titanic_data[(titanic_data['Survived'] == 1)].Survived.eq(1).sum()\n",
    "died_passenger_count = titanic_data[(titanic_data['Survived'] == 0)].Survived.eq(0).sum() \n",
    "print(survived_passenger_count, died_passenger_count)"
   ]
  },
  {
   "cell_type": "code",
   "execution_count": 9,
   "metadata": {},
   "outputs": [
    {
     "data": {
      "text/plain": [
       "891"
      ]
     },
     "execution_count": 9,
     "metadata": {},
     "output_type": "execute_result"
    }
   ],
   "source": [
    "#Quick check on value we found by comparing their summation.\n",
    "342 +549"
   ]
  },
  {
   "cell_type": "code",
   "execution_count": 10,
   "metadata": {},
   "outputs": [
    {
     "name": "stdout",
     "output_type": "stream",
     "text": [
      "(38.38383838383838, 61.61616161616161)\n"
     ]
    }
   ],
   "source": [
    "#Finding percentage for survived and died passengers\n",
    "survived_perc = float(float(survived_passenger_count)/float(row_count)) * 100\n",
    "died_perc = float(float(died_passenger_count)/float(row_count)) * 100\n",
    "print(survived_perc, died_perc)"
   ]
  },
  {
   "cell_type": "markdown",
   "metadata": {},
   "source": [
    "So we can see 38.38% passengers were able to survive, where rest 61.62% died in the accident."
   ]
  },
  {
   "cell_type": "code",
   "execution_count": 11,
   "metadata": {},
   "outputs": [
    {
     "name": "stdout",
     "output_type": "stream",
     "text": [
      "177\n"
     ]
    },
    {
     "data": {
      "text/html": [
       "<div>\n",
       "<style>\n",
       "    .dataframe thead tr:only-child th {\n",
       "        text-align: right;\n",
       "    }\n",
       "\n",
       "    .dataframe thead th {\n",
       "        text-align: left;\n",
       "    }\n",
       "\n",
       "    .dataframe tbody tr th {\n",
       "        vertical-align: top;\n",
       "    }\n",
       "</style>\n",
       "<table border=\"1\" class=\"dataframe\">\n",
       "  <thead>\n",
       "    <tr style=\"text-align: right;\">\n",
       "      <th></th>\n",
       "      <th>PassengerId</th>\n",
       "      <th>Survived</th>\n",
       "      <th>Pclass</th>\n",
       "      <th>Name</th>\n",
       "      <th>Sex</th>\n",
       "      <th>Age</th>\n",
       "      <th>SibSp</th>\n",
       "      <th>Parch</th>\n",
       "      <th>Ticket</th>\n",
       "      <th>Fare</th>\n",
       "      <th>Cabin</th>\n",
       "      <th>Embarked</th>\n",
       "    </tr>\n",
       "  </thead>\n",
       "  <tbody>\n",
       "    <tr>\n",
       "      <th>5</th>\n",
       "      <td>6</td>\n",
       "      <td>0</td>\n",
       "      <td>3</td>\n",
       "      <td>Moran, Mr. James</td>\n",
       "      <td>male</td>\n",
       "      <td>NaN</td>\n",
       "      <td>0</td>\n",
       "      <td>0</td>\n",
       "      <td>330877</td>\n",
       "      <td>8.4583</td>\n",
       "      <td>NaN</td>\n",
       "      <td>Q</td>\n",
       "    </tr>\n",
       "    <tr>\n",
       "      <th>17</th>\n",
       "      <td>18</td>\n",
       "      <td>1</td>\n",
       "      <td>2</td>\n",
       "      <td>Williams, Mr. Charles Eugene</td>\n",
       "      <td>male</td>\n",
       "      <td>NaN</td>\n",
       "      <td>0</td>\n",
       "      <td>0</td>\n",
       "      <td>244373</td>\n",
       "      <td>13.0000</td>\n",
       "      <td>NaN</td>\n",
       "      <td>S</td>\n",
       "    </tr>\n",
       "    <tr>\n",
       "      <th>19</th>\n",
       "      <td>20</td>\n",
       "      <td>1</td>\n",
       "      <td>3</td>\n",
       "      <td>Masselmani, Mrs. Fatima</td>\n",
       "      <td>female</td>\n",
       "      <td>NaN</td>\n",
       "      <td>0</td>\n",
       "      <td>0</td>\n",
       "      <td>2649</td>\n",
       "      <td>7.2250</td>\n",
       "      <td>NaN</td>\n",
       "      <td>C</td>\n",
       "    </tr>\n",
       "    <tr>\n",
       "      <th>26</th>\n",
       "      <td>27</td>\n",
       "      <td>0</td>\n",
       "      <td>3</td>\n",
       "      <td>Emir, Mr. Farred Chehab</td>\n",
       "      <td>male</td>\n",
       "      <td>NaN</td>\n",
       "      <td>0</td>\n",
       "      <td>0</td>\n",
       "      <td>2631</td>\n",
       "      <td>7.2250</td>\n",
       "      <td>NaN</td>\n",
       "      <td>C</td>\n",
       "    </tr>\n",
       "    <tr>\n",
       "      <th>28</th>\n",
       "      <td>29</td>\n",
       "      <td>1</td>\n",
       "      <td>3</td>\n",
       "      <td>O'Dwyer, Miss. Ellen \"Nellie\"</td>\n",
       "      <td>female</td>\n",
       "      <td>NaN</td>\n",
       "      <td>0</td>\n",
       "      <td>0</td>\n",
       "      <td>330959</td>\n",
       "      <td>7.8792</td>\n",
       "      <td>NaN</td>\n",
       "      <td>Q</td>\n",
       "    </tr>\n",
       "  </tbody>\n",
       "</table>\n",
       "</div>"
      ],
      "text/plain": [
       "    PassengerId  Survived  Pclass                           Name     Sex  Age  \\\n",
       "5             6         0       3               Moran, Mr. James    male  NaN   \n",
       "17           18         1       2   Williams, Mr. Charles Eugene    male  NaN   \n",
       "19           20         1       3        Masselmani, Mrs. Fatima  female  NaN   \n",
       "26           27         0       3        Emir, Mr. Farred Chehab    male  NaN   \n",
       "28           29         1       3  O'Dwyer, Miss. Ellen \"Nellie\"  female  NaN   \n",
       "\n",
       "    SibSp  Parch  Ticket     Fare Cabin Embarked  \n",
       "5       0      0  330877   8.4583   NaN        Q  \n",
       "17      0      0  244373  13.0000   NaN        S  \n",
       "19      0      0    2649   7.2250   NaN        C  \n",
       "26      0      0    2631   7.2250   NaN        C  \n",
       "28      0      0  330959   7.8792   NaN        Q  "
      ]
     },
     "execution_count": 11,
     "metadata": {},
     "output_type": "execute_result"
    }
   ],
   "source": [
    "#Find if any NULL value in AGE column\n",
    "age_data_error = titanic_data[pd.isnull(titanic_data['Age'])]\n",
    "print(age_data_error.shape[0])\n",
    "age_data_error.head()"
   ]
  },
  {
   "cell_type": "markdown",
   "metadata": {},
   "source": [
    "Hence, we can see that there are 177 records for which no age details are given. To proceed further, we will first remove the records having no age details to get a proper output details of remaining passengers."
   ]
  },
  {
   "cell_type": "code",
   "execution_count": 12,
   "metadata": {},
   "outputs": [
    {
     "data": {
      "text/plain": [
       "891"
      ]
     },
     "execution_count": 12,
     "metadata": {},
     "output_type": "execute_result"
    }
   ],
   "source": [
    "#Creating a data frame with column 'Survived', 'Age' of passengers by copying from the main file to keep it\n",
    "#untouched for further analysis\n",
    "age_details_df = titanic_data[['Survived', 'Age']].copy()\n",
    "#Get the row count to find if copy is done correcctly or not\n",
    "age_details_df.shape[0]"
   ]
  },
  {
   "cell_type": "code",
   "execution_count": 13,
   "metadata": {},
   "outputs": [
    {
     "data": {
      "text/plain": [
       "714"
      ]
     },
     "execution_count": 13,
     "metadata": {},
     "output_type": "execute_result"
    }
   ],
   "source": [
    "#Removing those records having no age details from the new data frame \n",
    "age_details_df = age_details_df[pd.notnull(age_details_df['Age'])] \n",
    "#Get the row count\n",
    "age_details_df.shape[0]"
   ]
  },
  {
   "cell_type": "code",
   "execution_count": 14,
   "metadata": {},
   "outputs": [
    {
     "name": "stdout",
     "output_type": "stream",
     "text": [
      "0.42\n",
      "80.0\n"
     ]
    }
   ],
   "source": [
    "#Populating the minimum and maximum value to use during visualization and plotting\n",
    "min_age_details = age_details_df['Age'].min()\n",
    "max_age_details = age_details_df['Age'].max()\n",
    "print(min_age_details)\n",
    "print(max_age_details)"
   ]
  },
  {
   "cell_type": "code",
   "execution_count": 15,
   "metadata": {
    "collapsed": true
   },
   "outputs": [],
   "source": [
    "#Passengers survived\n",
    "age_details_survived_df = age_details_df[(age_details_df['Survived'] == 1)]\n",
    "#Passenegers who died\n",
    "age_details_dead_df = age_details_df[(age_details_df['Survived'] == 0)]"
   ]
  },
  {
   "cell_type": "code",
   "execution_count": 16,
   "metadata": {},
   "outputs": [
    {
     "name": "stdout",
     "output_type": "stream",
     "text": [
      "290\n",
      "424\n"
     ]
    }
   ],
   "source": [
    "#Survived and Died count for the new dataframe created for 'Age' analysis\n",
    "print(age_details_survived_df.shape[0])\n",
    "print(age_details_dead_df.shape[0])"
   ]
  },
  {
   "cell_type": "code",
   "execution_count": 17,
   "metadata": {},
   "outputs": [
    {
     "data": {
      "text/plain": [
       "[0, 85, 0, 250]"
      ]
     },
     "execution_count": 17,
     "metadata": {},
     "output_type": "execute_result"
    },
    {
     "data": {
      "image/png": "[encoded data removed]",
      "text/plain": [
       "<matplotlib.figure.Figure at 0xa3e94a8>"
      ]
     },
     "metadata": {},
     "output_type": "display_data"
    }
   ],
   "source": [
    "#Plotting histogram to see the Age distribution\n",
    "bin_size = 10\n",
    "max_range = int(max_age_details) + bin_size\n",
    "age_details_df.hist(column='Age', bins = range(0, max_range, bin_size))\n",
    "plt.xlabel('Age')\n",
    "plt.ylabel('Passenger Count')\n",
    "plt.axis([0, 85, 0, 250])"
   ]
  },
  {
   "cell_type": "code",
   "execution_count": 18,
   "metadata": {},
   "outputs": [
    {
     "data": {
      "text/plain": [
       "<matplotlib.text.Text at 0xb03ea90>"
      ]
     },
     "execution_count": 18,
     "metadata": {},
     "output_type": "execute_result"
    },
    {
     "data": {
      "image/png": "[encoded data removed]",
      "text/plain": [
       "<matplotlib.figure.Figure at 0xa450dd8>"
      ]
     },
     "metadata": {},
     "output_type": "display_data"
    }
   ],
   "source": [
    "fig = plt.figure(figsize = (20,6))\n",
    "\n",
    "plt.subplot(1,2,1)\n",
    "plt.hist(age_details_survived_df.set_index('Survived')['Age'],facecolor='g')\n",
    "plt.axis([0, 85, 0, 120])\n",
    "plt.ylabel('Survived Passengers')\n",
    "plt.xlabel('Age')\n",
    "\n",
    "plt.subplot(1,2,2)\n",
    "plt.hist(age_details_dead_df.set_index('Survived')['Age'],facecolor='r')\n",
    "plt.axis([0, 85, 0, 120])\n",
    "plt.ylabel('Died Passengers')\n",
    "plt.xlabel('Age')"
   ]
  },
  {
   "cell_type": "markdown",
   "metadata": {},
   "source": [
    "Above diagrams clear one thing that, most of the passengers are from age range 20-60. As the passenger count is most for that range, so the survival or dead count is also higher for that age range passengers. The above visualization does not clearly specifies the rate. So we will try to analyse the thing with percentage value to get the clear image of survival or dead rate.\n",
    "We will divide the passengers in 4 age group. 0< x <=20, 20< x <= 40, 40< x <=60, 60< x\n",
    "And then we will check their survival rate."
   ]
  },
  {
   "cell_type": "code",
   "execution_count": 19,
   "metadata": {},
   "outputs": [
    {
     "name": "stdout",
     "output_type": "stream",
     "text": [
      "82\n"
     ]
    },
    {
     "data": {
      "text/html": [
       "<div>\n",
       "<style>\n",
       "    .dataframe thead tr:only-child th {\n",
       "        text-align: right;\n",
       "    }\n",
       "\n",
       "    .dataframe thead th {\n",
       "        text-align: left;\n",
       "    }\n",
       "\n",
       "    .dataframe tbody tr th {\n",
       "        vertical-align: top;\n",
       "    }\n",
       "</style>\n",
       "<table border=\"1\" class=\"dataframe\">\n",
       "  <thead>\n",
       "    <tr style=\"text-align: right;\">\n",
       "      <th></th>\n",
       "      <th>Survived</th>\n",
       "      <th>Age</th>\n",
       "    </tr>\n",
       "  </thead>\n",
       "  <tbody>\n",
       "    <tr>\n",
       "      <th>9</th>\n",
       "      <td>1</td>\n",
       "      <td>14.0</td>\n",
       "    </tr>\n",
       "    <tr>\n",
       "      <th>10</th>\n",
       "      <td>1</td>\n",
       "      <td>4.0</td>\n",
       "    </tr>\n",
       "  </tbody>\n",
       "</table>\n",
       "</div>"
      ],
      "text/plain": [
       "    Survived   Age\n",
       "9          1  14.0\n",
       "10         1   4.0"
      ]
     },
     "execution_count": 19,
     "metadata": {},
     "output_type": "execute_result"
    }
   ],
   "source": [
    "#Below 20 survived passenger\n",
    "below_20_survived = age_details_df[(age_details_df['Survived'] == 1) & (age_details_df['Age'] <= 20)]\n",
    "print(below_20_survived.shape[0])\n",
    "below_20_survived.head(2)"
   ]
  },
  {
   "cell_type": "code",
   "execution_count": 20,
   "metadata": {
    "collapsed": true
   },
   "outputs": [],
   "source": [
    "#Below 20 died passenger\n",
    "below_20_died = age_details_df[(age_details_df['Survived'] == 0) & (age_details_df['Age'] <= 20)]\n",
    "#20-40 survived passenger\n",
    "a20_to_40_survived = age_details_df[(age_details_df['Survived'] == 1) & \n",
    "                                    ((age_details_df['Age'] > 20) & (age_details_df['Age'] <= 40))]\n",
    "#20-40 died passenger\n",
    "a20_to_40_died = age_details_df[(age_details_df['Survived'] == 0) & \n",
    "                                    ((age_details_df['Age'] > 20) & (age_details_df['Age'] <= 40))]\n",
    "#40-60 survived passenger\n",
    "a40_to_60_survived = age_details_df[(age_details_df['Survived'] == 1) & \n",
    "                                    ((age_details_df['Age'] > 40) & (age_details_df['Age'] <= 60))]\n",
    "#40-60 died passenger\n",
    "a40_to_60_died = age_details_df[(age_details_df['Survived'] == 0) & \n",
    "                                    ((age_details_df['Age'] > 40) & (age_details_df['Age'] <= 60))]\n",
    "#Above 60 survived passenger\n",
    "above_60_survived = age_details_df[(age_details_df['Survived'] == 1) & (age_details_df['Age'] > 60)]\n",
    "#Above 60 died passenger\n",
    "above_60_died = age_details_df[(age_details_df['Survived'] == 0) & (age_details_df['Age'] > 60)]"
   ]
  },
  {
   "cell_type": "code",
   "execution_count": 21,
   "metadata": {},
   "outputs": [
    {
     "data": {
      "text/plain": [
       "82"
      ]
     },
     "execution_count": 21,
     "metadata": {},
     "output_type": "execute_result"
    }
   ],
   "source": [
    "#Find the count for each of the above cases\n",
    "below_20_survived_cnt = below_20_survived.Survived.eq(1).sum()\n",
    "below_20_survived_cnt"
   ]
  },
  {
   "cell_type": "code",
   "execution_count": 22,
   "metadata": {},
   "outputs": [
    {
     "data": {
      "text/plain": [
       "97"
      ]
     },
     "execution_count": 22,
     "metadata": {},
     "output_type": "execute_result"
    }
   ],
   "source": [
    "below_20_died_cnt = below_20_died.Survived.eq(0).sum()\n",
    "below_20_died_cnt"
   ]
  },
  {
   "cell_type": "code",
   "execution_count": 23,
   "metadata": {},
   "outputs": [
    {
     "name": "stdout",
     "output_type": "stream",
     "text": [
      "(153, 232, 50, 78, 5, 17)\n"
     ]
    }
   ],
   "source": [
    "a20_to_40_survived_cnt = a20_to_40_survived.Survived.eq(1).sum()\n",
    "a20_to_40_died_cnt = a20_to_40_died.Survived.eq(0).sum()\n",
    "a40_to_60_survived_cnt = a40_to_60_survived.Survived.eq(1).sum()\n",
    "a40_to_60_died_cnt = a40_to_60_died.Survived.eq(0).sum()\n",
    "above_60_survived_cnt = above_60_survived.Survived.eq(1).sum()\n",
    "above_60_died_cnt = above_60_died.Survived.eq(0).sum()\n",
    "print(a20_to_40_survived_cnt,a20_to_40_died_cnt,a40_to_60_survived_cnt,\n",
    "      a40_to_60_died_cnt,above_60_survived_cnt,above_60_died_cnt )"
   ]
  },
  {
   "cell_type": "code",
   "execution_count": 24,
   "metadata": {},
   "outputs": [
    {
     "data": {
      "text/plain": [
       "714"
      ]
     },
     "execution_count": 24,
     "metadata": {},
     "output_type": "execute_result"
    }
   ],
   "source": [
    "82 + 97 + 153 + 232 + 50 + 78 + 5+ 17"
   ]
  },
  {
   "cell_type": "code",
   "execution_count": 25,
   "metadata": {},
   "outputs": [
    {
     "data": {
      "text/plain": [
       "[{'Column': 'Below 20 Survived', 'Value': 82},\n",
       " {'Column': 'Below 20 Died', 'Value': 97},\n",
       " {'Column': 'Age 20 to 40, Survived', 'Value': 153},\n",
       " {'Column': 'Age 20 to 40, Died', 'Value': 232},\n",
       " {'Column': 'Age 40 to 60, Survived', 'Value': 50},\n",
       " {'Column': 'Above 60, Survived', 'Value': 5},\n",
       " {'Column': 'Age 40 to 60, Died', 'Value': 78},\n",
       " {'Column': 'Above 60, Died', 'Value': 17}]"
      ]
     },
     "execution_count": 25,
     "metadata": {},
     "output_type": "execute_result"
    }
   ],
   "source": [
    "#Populating one simple list for plotting a pie diagram\n",
    "age_pieplot_data = [{'Column' : 'Below 20 Survived', 'Value' : below_20_survived_cnt},\n",
    "                    {'Column' : 'Below 20 Died', 'Value' : below_20_died_cnt},\n",
    "                    {'Column' : 'Age 20 to 40, Survived', 'Value' : a20_to_40_survived_cnt},\n",
    "                    {'Column' : 'Age 20 to 40, Died', 'Value' : a20_to_40_died_cnt},\n",
    "                    {'Column' : 'Age 40 to 60, Survived', 'Value' : a40_to_60_survived_cnt},\n",
    "                    {'Column' : 'Above 60, Survived', 'Value' : above_60_survived_cnt},\n",
    "                    {'Column' : 'Age 40 to 60, Died', 'Value' : a40_to_60_died_cnt},\n",
    "                    {'Column' : 'Above 60, Died', 'Value' : above_60_died_cnt}]\n",
    "age_pieplot_data"
   ]
  },
  {
   "cell_type": "code",
   "execution_count": 26,
   "metadata": {
    "collapsed": true
   },
   "outputs": [],
   "source": [
    "#Defining a method to plot Pie diagram\n",
    "def custom_pieplot(sample_data,title):\n",
    "    pieplot_df = pd.DataFrame(sample_data)\n",
    "    colors = [\"#98be57\", \"#59c4a1\", \"#ec93dd\", \"#249cc2\", \"#db813a\", \"#8ea71d\", \"#85b0b7\", \"#CB5C3B\"]\n",
    "    #explode = (0.05, 0.1, 0.05, 0.1, 0.05, 0.1, 0.05, 0.1)\n",
    "    # Create a pie chart\n",
    "    plt.pie( pieplot_df['Value'], \n",
    "             #explode=explode,\n",
    "             labels=pieplot_df['Column'],\n",
    "             shadow=False,\n",
    "             colors=colors,\n",
    "             startangle=90,\n",
    "             autopct='%1.1f%%',\n",
    "             )\n",
    "\n",
    "# View the plot drop above\n",
    "    plt.axis('equal')\n",
    "#Give Title\n",
    "    plt.title(title, fontsize = 20, va='bottom')\n",
    "# View the plot\n",
    "    plt.tight_layout()\n",
    "    plt.show()"
   ]
  },
  {
   "cell_type": "code",
   "execution_count": 27,
   "metadata": {},
   "outputs": [
    {
     "data": {
      "image/png": "[encoded data removed]",
      "text/plain": [
       "<matplotlib.figure.Figure at 0x64907b8>"
      ]
     },
     "metadata": {},
     "output_type": "display_data"
    }
   ],
   "source": [
    "#Plotting the disgram\n",
    "title_age = 'Survival Ratio on Age'\n",
    "custom_pieplot(age_pieplot_data,title_age)"
   ]
  },
  {
   "cell_type": "markdown",
   "metadata": {},
   "source": [
    "The above diagram shows better view of survival rate with age for the passengers having age details.\n",
    "More than half of the passengers are or age range of 20 to 40. Precisely the ratio is 53.9% of total passengers(for which we have age details). Out of these, 21.4% have survived the accident. \n",
    "So if we consider only this age range people, 60.29% of them have been died, hence the survival rate 39.71  is low for this age range people.\n",
    "Another 25.1% of total passengers, is of age range below 20. In this age range, surviving rate is slightly less than dying rate.\n",
    "People above 60 are very less in count, only 3.1% of total passengers, out of which 2.4% have died. So if we consider only this age range, the survival rate is only .7/(.7+2.4)) or 22.5%, which is even lower than the rate of age group 20-40.\n",
    "In all the age range, died percentage is greater than survival rate. Total survival rate is 40.61%"
   ]
  },
  {
   "cell_type": "markdown",
   "metadata": {},
   "source": [
    "# Next we will find survival rate for male and female"
   ]
  },
  {
   "cell_type": "code",
   "execution_count": 28,
   "metadata": {},
   "outputs": [
    {
     "name": "stdout",
     "output_type": "stream",
     "text": [
      "0\n"
     ]
    },
    {
     "data": {
      "text/html": [
       "<div>\n",
       "<style>\n",
       "    .dataframe thead tr:only-child th {\n",
       "        text-align: right;\n",
       "    }\n",
       "\n",
       "    .dataframe thead th {\n",
       "        text-align: left;\n",
       "    }\n",
       "\n",
       "    .dataframe tbody tr th {\n",
       "        vertical-align: top;\n",
       "    }\n",
       "</style>\n",
       "<table border=\"1\" class=\"dataframe\">\n",
       "  <thead>\n",
       "    <tr style=\"text-align: right;\">\n",
       "      <th></th>\n",
       "      <th>PassengerId</th>\n",
       "      <th>Survived</th>\n",
       "      <th>Pclass</th>\n",
       "      <th>Name</th>\n",
       "      <th>Sex</th>\n",
       "      <th>Age</th>\n",
       "      <th>SibSp</th>\n",
       "      <th>Parch</th>\n",
       "      <th>Ticket</th>\n",
       "      <th>Fare</th>\n",
       "      <th>Cabin</th>\n",
       "      <th>Embarked</th>\n",
       "    </tr>\n",
       "  </thead>\n",
       "  <tbody>\n",
       "  </tbody>\n",
       "</table>\n",
       "</div>"
      ],
      "text/plain": [
       "Empty DataFrame\n",
       "Columns: [PassengerId, Survived, Pclass, Name, Sex, Age, SibSp, Parch, Ticket, Fare, Cabin, Embarked]\n",
       "Index: []"
      ]
     },
     "execution_count": 28,
     "metadata": {},
     "output_type": "execute_result"
    }
   ],
   "source": [
    "#Check if there is any missing data for 'Sex' column of the file\n",
    "sex_data_error = titanic_data[pd.isnull(titanic_data['Sex'])]\n",
    "print(sex_data_error.shape[0])\n",
    "sex_data_error.head()"
   ]
  },
  {
   "cell_type": "markdown",
   "metadata": {},
   "source": [
    "So there is no null data in 'Sex' column of the file. Now we will find the female and male count and cross check with the sum to validate if the records are all correct or not."
   ]
  },
  {
   "cell_type": "code",
   "execution_count": 29,
   "metadata": {},
   "outputs": [
    {
     "data": {
      "text/plain": [
       "314"
      ]
     },
     "execution_count": 29,
     "metadata": {},
     "output_type": "execute_result"
    }
   ],
   "source": [
    "female_count = titanic_data[(titanic_data['Sex'] == 'female')].Sex.eq('female').sum()\n",
    "female_count"
   ]
  },
  {
   "cell_type": "code",
   "execution_count": 30,
   "metadata": {},
   "outputs": [
    {
     "data": {
      "text/plain": [
       "577"
      ]
     },
     "execution_count": 30,
     "metadata": {},
     "output_type": "execute_result"
    }
   ],
   "source": [
    "male_count = titanic_data[(titanic_data['Sex'] == 'male')].Sex.eq('male').sum()\n",
    "male_count"
   ]
  },
  {
   "cell_type": "code",
   "execution_count": 31,
   "metadata": {},
   "outputs": [
    {
     "data": {
      "text/plain": [
       "891"
      ]
     },
     "execution_count": 31,
     "metadata": {},
     "output_type": "execute_result"
    }
   ],
   "source": [
    "314+577"
   ]
  },
  {
   "cell_type": "markdown",
   "metadata": {},
   "source": [
    "So we can conclude all the records are correctly maintained for 'Sex' column"
   ]
  },
  {
   "cell_type": "code",
   "execution_count": 32,
   "metadata": {},
   "outputs": [
    {
     "name": "stdout",
     "output_type": "stream",
     "text": [
      "(233, 81, 109, 468)\n"
     ]
    }
   ],
   "source": [
    "#Survived count for FEMALE\n",
    "female_survived_count = (titanic_data[(titanic_data['Survived'] == 1) & (titanic_data['Sex'] == 'female')].Survived.eq(1).sum())\n",
    "#Died count for FEMALE\n",
    "female_died_count = (titanic_data[(titanic_data['Survived'] == 0) & (titanic_data['Sex'] == 'female')].Survived.eq(0).sum())\n",
    "#Survived count for MALE\n",
    "male_survived_count = (titanic_data[(titanic_data['Survived'] == 1) & (titanic_data['Sex'] == 'male')].Survived.eq(1).sum())\n",
    "#Died count for MALE\n",
    "male_died_count = (titanic_data[(titanic_data['Survived'] == 0) & (titanic_data['Sex'] == 'male')].Survived.eq(0).sum())\n",
    "\n",
    "print(female_survived_count, female_died_count, male_survived_count, male_died_count)"
   ]
  },
  {
   "cell_type": "code",
   "execution_count": 33,
   "metadata": {},
   "outputs": [
    {
     "data": {
      "text/plain": [
       "891"
      ]
     },
     "execution_count": 33,
     "metadata": {},
     "output_type": "execute_result"
    }
   ],
   "source": [
    "233+ 81+ 109+ 468"
   ]
  },
  {
   "cell_type": "code",
   "execution_count": 34,
   "metadata": {},
   "outputs": [
    {
     "data": {
      "text/plain": [
       "[{'Column': 'Male_Survived', 'Value': 109},\n",
       " {'Column': 'Male_Dead', 'Value': 468},\n",
       " {'Column': 'Female_Survived', 'Value': 233},\n",
       " {'Column': 'Female_Dead', 'Value': 81}]"
      ]
     },
     "execution_count": 34,
     "metadata": {},
     "output_type": "execute_result"
    }
   ],
   "source": [
    "#Populating one simple list for plotting a pie diagram\n",
    "sex_pieplot_data = [{'Column' : 'Male_Survived', 'Value' : male_survived_count},\n",
    "                    {'Column' : 'Male_Dead', 'Value' : male_died_count},\n",
    "                    {'Column' : 'Female_Survived', 'Value' : female_survived_count},\n",
    "                    {'Column' : 'Female_Dead', 'Value' : female_died_count}]\n",
    "sex_pieplot_data"
   ]
  },
  {
   "cell_type": "code",
   "execution_count": 35,
   "metadata": {},
   "outputs": [
    {
     "data": {
      "image/png": "[encoded data removed]",
      "text/plain": [
       "<matplotlib.figure.Figure at 0xb204630>"
      ]
     },
     "metadata": {},
     "output_type": "display_data"
    }
   ],
   "source": [
    "#Calling the method to plot the diagram\n",
    "title_sex = 'Survival Ratio with Sex'\n",
    "custom_pieplot(sex_pieplot_data,title_sex)"
   ]
  },
  {
   "cell_type": "code",
   "execution_count": 36,
   "metadata": {},
   "outputs": [
    {
     "name": "stdout",
     "output_type": "stream",
     "text": [
      "(35.24, 64.76, 74.2, 25.8, 18.89, 81.11)\n"
     ]
    }
   ],
   "source": [
    "female_passengers = float(float(female_count)/float(row_count))*100\n",
    "male_passengers = float(float(male_count)/float(row_count))*100\n",
    "female_survival_rate = float(float(female_survived_count)/float(female_count)) * 100\n",
    "female_dying_rate = float(float(female_died_count)/float(female_count))*100\n",
    "male_survival_rate = float(float(male_survived_count)/float(male_count))*100\n",
    "male_dying_rate = float(float(male_died_count)/float(male_count))*100\n",
    "\n",
    "print(round(female_passengers, 2), round(male_passengers, 2), round(female_survival_rate, 2),\n",
    "      round(female_dying_rate, 2), round(male_survival_rate, 2), round(male_dying_rate, 2))"
   ]
  },
  {
   "cell_type": "markdown",
   "metadata": {},
   "source": [
    "We can see that 64.7% of total passengers are MALE and 35.24% are FEMALE. It is clear from figure that, female passengers have survival rate of 74% among females, and the same is only 18.89% for male among males. "
   ]
  },
  {
   "cell_type": "markdown",
   "metadata": {},
   "source": [
    "# Survival Rate based on PCLASS of any passenger"
   ]
  },
  {
   "cell_type": "code",
   "execution_count": 37,
   "metadata": {},
   "outputs": [
    {
     "name": "stdout",
     "output_type": "stream",
     "text": [
      "0\n"
     ]
    },
    {
     "data": {
      "text/html": [
       "<div>\n",
       "<style>\n",
       "    .dataframe thead tr:only-child th {\n",
       "        text-align: right;\n",
       "    }\n",
       "\n",
       "    .dataframe thead th {\n",
       "        text-align: left;\n",
       "    }\n",
       "\n",
       "    .dataframe tbody tr th {\n",
       "        vertical-align: top;\n",
       "    }\n",
       "</style>\n",
       "<table border=\"1\" class=\"dataframe\">\n",
       "  <thead>\n",
       "    <tr style=\"text-align: right;\">\n",
       "      <th></th>\n",
       "      <th>PassengerId</th>\n",
       "      <th>Survived</th>\n",
       "      <th>Pclass</th>\n",
       "      <th>Name</th>\n",
       "      <th>Sex</th>\n",
       "      <th>Age</th>\n",
       "      <th>SibSp</th>\n",
       "      <th>Parch</th>\n",
       "      <th>Ticket</th>\n",
       "      <th>Fare</th>\n",
       "      <th>Cabin</th>\n",
       "      <th>Embarked</th>\n",
       "    </tr>\n",
       "  </thead>\n",
       "  <tbody>\n",
       "  </tbody>\n",
       "</table>\n",
       "</div>"
      ],
      "text/plain": [
       "Empty DataFrame\n",
       "Columns: [PassengerId, Survived, Pclass, Name, Sex, Age, SibSp, Parch, Ticket, Fare, Cabin, Embarked]\n",
       "Index: []"
      ]
     },
     "execution_count": 37,
     "metadata": {},
     "output_type": "execute_result"
    }
   ],
   "source": [
    "#First find if any error data, then remove those\n",
    "class_data_error = titanic_data[pd.isnull(titanic_data['Pclass'])]\n",
    "print(class_data_error.shape[0])\n",
    "class_data_error.head()"
   ]
  },
  {
   "cell_type": "code",
   "execution_count": 38,
   "metadata": {},
   "outputs": [
    {
     "data": {
      "text/plain": [
       "3    491\n",
       "1    216\n",
       "2    184\n",
       "Name: Pclass, dtype: int64"
      ]
     },
     "execution_count": 38,
     "metadata": {},
     "output_type": "execute_result"
    }
   ],
   "source": [
    "#Need to find the value count for 'Pclass'\n",
    "titanic_data['Pclass'].value_counts()"
   ]
  },
  {
   "cell_type": "markdown",
   "metadata": {},
   "source": [
    "'pclass' is a proxy for socio-economic status (SES). \n",
    "We have 3 types of class defined in our file.\n",
    "1st = Upper Class\n",
    "2nd = Middle Class\n",
    "3rd = Lower Class"
   ]
  },
  {
   "cell_type": "code",
   "execution_count": 39,
   "metadata": {},
   "outputs": [
    {
     "name": "stdout",
     "output_type": "stream",
     "text": [
      "(216, 184, 491)\n"
     ]
    }
   ],
   "source": [
    "class1_count = (titanic_data[(titanic_data['Pclass'] == 1)].Pclass.eq(1).sum())\n",
    "class2_count = (titanic_data[(titanic_data['Pclass'] == 2)].Pclass.eq(2).sum()) \n",
    "class3_count = (titanic_data[(titanic_data['Pclass'] == 3)].Pclass.eq(3).sum()) \n",
    "print(class1_count, class2_count, class3_count)"
   ]
  },
  {
   "cell_type": "code",
   "execution_count": 40,
   "metadata": {},
   "outputs": [
    {
     "data": {
      "text/plain": [
       "891"
      ]
     },
     "execution_count": 40,
     "metadata": {},
     "output_type": "execute_result"
    }
   ],
   "source": [
    "#Checking the sum to compare\n",
    "491+216+184"
   ]
  },
  {
   "cell_type": "code",
   "execution_count": 41,
   "metadata": {},
   "outputs": [
    {
     "data": {
      "text/plain": [
       "0"
      ]
     },
     "execution_count": 41,
     "metadata": {},
     "output_type": "execute_result"
    }
   ],
   "source": [
    "df_duplicates = titanic_data[titanic_data.duplicated('Name')]\n",
    "df_duplicates.shape[0]"
   ]
  },
  {
   "cell_type": "markdown",
   "metadata": {},
   "source": [
    "We can conclude the all the records of the file are having 'Pclass' details. We will now check how this class is related to the survived passengers."
   ]
  },
  {
   "cell_type": "code",
   "execution_count": 42,
   "metadata": {},
   "outputs": [
    {
     "name": "stdout",
     "output_type": "stream",
     "text": [
      "(24.24, 20.65, 55.11)\n",
      "(136, 87, 119, 80, 97, 372)\n"
     ]
    }
   ],
   "source": [
    "#Get the percentage of passenger in each class\n",
    "class1_perc = float(float(class1_count)/float(row_count)) * 100\n",
    "class2_perc = float(float(class2_count)/float(row_count)) * 100\n",
    "class3_perc = float(float(class3_count)/float(row_count)) * 100\n",
    "print(round(class1_perc, 2), round(class2_perc, 2), round(class3_perc, 2))\n",
    "\n",
    "#Finding the survived and died passengers' count based on their 'Pclass'\n",
    "class1_survived_count = (titanic_data[(titanic_data['Survived'] == 1) & (titanic_data['Pclass'] == 1)].Pclass.eq(1).sum())\n",
    "class2_survived_count = (titanic_data[(titanic_data['Survived'] == 1) & (titanic_data['Pclass'] == 2)].Pclass.eq(2).sum())\n",
    "class3_survived_count = (titanic_data[(titanic_data['Survived'] == 1) & (titanic_data['Pclass'] == 3)].Pclass.eq(3).sum())\n",
    "class1_dead_count = (titanic_data[(titanic_data['Survived'] == 0) & (titanic_data['Pclass'] == 1)].Pclass.eq(1).sum())\n",
    "class2_dead_count = (titanic_data[(titanic_data['Survived'] == 0) & (titanic_data['Pclass'] == 2)].Pclass.eq(2).sum())\n",
    "class3_dead_count = (titanic_data[(titanic_data['Survived'] == 0) & (titanic_data['Pclass'] == 3)].Pclass.eq(3).sum())\n",
    "\n",
    "print(class1_survived_count, class2_survived_count, class3_survived_count,\n",
    "      class1_dead_count, class2_dead_count, class3_dead_count)"
   ]
  },
  {
   "cell_type": "code",
   "execution_count": 43,
   "metadata": {},
   "outputs": [
    {
     "data": {
      "text/plain": [
       "891"
      ]
     },
     "execution_count": 43,
     "metadata": {},
     "output_type": "execute_result"
    }
   ],
   "source": [
    "#Just some cross check of the result found\n",
    "136 + 87 + 119 + 80 + 97 + 372"
   ]
  },
  {
   "cell_type": "code",
   "execution_count": 44,
   "metadata": {
    "collapsed": true
   },
   "outputs": [],
   "source": [
    "#Populating simple list for Pclass pie chart\n",
    "pclass_pieplot_data = [{'Column' : 'class1_survived', 'Value' : class1_survived_count},\n",
    "                       {'Column' : 'class1_dead', 'Value' : class1_dead_count},\n",
    "                       {'Column' : 'class2_survived', 'Value' : class2_survived_count},\n",
    "                       {'Column' : 'class2_dead', 'Value' : class2_dead_count},\n",
    "                       {'Column' : 'class3_survived', 'Value' : class3_survived_count},\n",
    "                       {'Column' : 'class3_dead', 'Value' : class3_dead_count}]\n"
   ]
  },
  {
   "cell_type": "code",
   "execution_count": 45,
   "metadata": {},
   "outputs": [
    {
     "data": {
      "image/png": "[encoded data removed]",
      "text/plain": [
       "<matplotlib.figure.Figure at 0xb434da0>"
      ]
     },
     "metadata": {},
     "output_type": "display_data"
    }
   ],
   "source": [
    "#Calling the method to plot the diagram\n",
    "pclass_title = 'Survival Ratio with Passenger Class'\n",
    "custom_pieplot(pclass_pieplot_data, pclass_title)"
   ]
  },
  {
   "cell_type": "markdown",
   "metadata": {},
   "source": [
    "We know that total percentage for died is 61.62. From the above figure we can see, out of that 41.8% passengers are from class3.\n",
    "Total passnegers in class1, class2 and class3 are 24.24%, 20.65%, 55.11% respectively. Percentage rate of survival considering only the passenger in that particular class is as below."
   ]
  },
  {
   "cell_type": "code",
   "execution_count": 46,
   "metadata": {
    "collapsed": true
   },
   "outputs": [],
   "source": [
    "class1_survi_rate = float(class1_survived_count)/float(class1_count) *100\n",
    "class2_survi_rate = float(class2_survived_count)/float(class2_count) *100\n",
    "class3_survi_rate = float(class3_survived_count)/float(class3_count) *100"
   ]
  },
  {
   "cell_type": "code",
   "execution_count": 47,
   "metadata": {},
   "outputs": [
    {
     "name": "stdout",
     "output_type": "stream",
     "text": [
      "(62.96, 47.28, 24.24)\n"
     ]
    }
   ],
   "source": [
    "print(round(class1_survi_rate,2), round(class2_survi_rate,2), round(class3_survi_rate,2))"
   ]
  },
  {
   "cell_type": "code",
   "execution_count": 48,
   "metadata": {
    "collapsed": true
   },
   "outputs": [],
   "source": [
    "#Populating simple list for Pclass pie chart\n",
    "class1_pieplot_data = [{'Column' : 'class1_survived', 'Value' : class1_survived_count},\n",
    "                       {'Column' : 'class1_dead', 'Value' : class1_dead_count}]\n",
    "class2_pieplot_data = [{'Column' : 'class2_survived', 'Value' : class2_survived_count},\n",
    "                       {'Column' : 'class2_dead', 'Value' : class2_dead_count}]\n",
    "class3_pieplot_data = [{'Column' : 'class3_survived', 'Value' : class3_survived_count},\n",
    "                       {'Column' : 'class3_dead', 'Value' : class3_dead_count}]\n",
    "\n",
    "class1_pieplot_df = pd.DataFrame(class1_pieplot_data)\n",
    "class2_pieplot_df = pd.DataFrame(class2_pieplot_data)\n",
    "class3_pieplot_df = pd.DataFrame(class3_pieplot_data)"
   ]
  },
  {
   "cell_type": "code",
   "execution_count": 49,
   "metadata": {},
   "outputs": [
    {
     "data": {
      "image/png": "[encoded data removed]",
      "text/plain": [
       "<matplotlib.figure.Figure at 0xb8a4e48>"
      ]
     },
     "metadata": {},
     "output_type": "display_data"
    }
   ],
   "source": [
    "#Plotting pie chart to display the ratio of all the three class passenger\n",
    "colors = [\"#249cc2\", \"#db813a\", \"#8ea71d\", \"#85b0b7\", \"#CB5C3B\"]\n",
    "fig = plt.figure(figsize = (15,3))\n",
    "#Sub plot 1 \n",
    "plt.subplot(1,3,1)\n",
    "plt.pie(class1_pieplot_df['Value'], \n",
    "    labels=class1_pieplot_df['Column'],\n",
    "    shadow=False,\n",
    "    colors= colors,\n",
    "    startangle=90,\n",
    "    autopct='%1.1f%%',\n",
    "    )\n",
    "plt.title('First Class Survival Ratio', fontsize = 20, va='bottom')\n",
    "plt.axis('equal')\n",
    "plt.tight_layout()\n",
    "#Sub plot 2\n",
    "plt.subplot(1,3,2)\n",
    "plt.pie(class2_pieplot_df['Value'], \n",
    "    labels=class2_pieplot_df['Column'],\n",
    "    shadow=False,\n",
    "    colors=colors,\n",
    "    startangle=90,\n",
    "    autopct='%1.1f%%',\n",
    "    )\n",
    "plt.title('Second Class Survival Ratio', fontsize = 20, va='bottom')\n",
    "plt.axis('equal')\n",
    "plt.tight_layout()\n",
    "#Subplot 3\n",
    "plt.subplot(1,3,3)\n",
    "plt.pie(class3_pieplot_df['Value'], \n",
    "    labels=class3_pieplot_df['Column'],\n",
    "    shadow=False,\n",
    "    colors=colors,\n",
    "    startangle=90,\n",
    "    autopct='%1.1f%%',\n",
    "    )\n",
    "plt.title('Third Class Survival Ratio', fontsize = 20, va='bottom')\n",
    "plt.axis('equal')\n",
    "plt.tight_layout()\n",
    "\n",
    "plt.show()"
   ]
  },
  {
   "cell_type": "markdown",
   "metadata": {},
   "source": [
    "Class1 has the highest survival rate and it is going down as we move to class2 and class3. "
   ]
  },
  {
   "cell_type": "markdown",
   "metadata": {},
   "source": [
    "# Relation of FARE and survival rate."
   ]
  },
  {
   "cell_type": "code",
   "execution_count": 50,
   "metadata": {},
   "outputs": [
    {
     "data": {
      "text/plain": [
       "0"
      ]
     },
     "execution_count": 50,
     "metadata": {},
     "output_type": "execute_result"
    }
   ],
   "source": [
    "#Find data with error in FARE details\n",
    "no_fare_details = titanic_data[pd.isnull(titanic_data['Fare'])]\n",
    "no_fare_details.shape[0]"
   ]
  },
  {
   "cell_type": "code",
   "execution_count": 51,
   "metadata": {},
   "outputs": [
    {
     "name": "stdout",
     "output_type": "stream",
     "text": [
      "32.2042079686\n",
      "0.0\n",
      "512.3292\n"
     ]
    }
   ],
   "source": [
    "print(titanic_data['Fare'].mean())\n",
    "print(titanic_data['Fare'].min())\n",
    "print(titanic_data['Fare'].max())"
   ]
  },
  {
   "cell_type": "markdown",
   "metadata": {},
   "source": [
    "As the minimum value shows 0, we will find how many records are there having fare as 0"
   ]
  },
  {
   "cell_type": "code",
   "execution_count": 52,
   "metadata": {},
   "outputs": [
    {
     "data": {
      "text/plain": [
       "15"
      ]
     },
     "execution_count": 52,
     "metadata": {},
     "output_type": "execute_result"
    }
   ],
   "source": [
    "#Finding the records with FARE 0\n",
    "having_0_fare_df = titanic_data[(titanic_data['Fare'] == 0)]\n",
    "having_0_fare_df.shape[0]"
   ]
  },
  {
   "cell_type": "code",
   "execution_count": 53,
   "metadata": {},
   "outputs": [
    {
     "data": {
      "text/html": [
       "<div>\n",
       "<style>\n",
       "    .dataframe thead tr:only-child th {\n",
       "        text-align: right;\n",
       "    }\n",
       "\n",
       "    .dataframe thead th {\n",
       "        text-align: left;\n",
       "    }\n",
       "\n",
       "    .dataframe tbody tr th {\n",
       "        vertical-align: top;\n",
       "    }\n",
       "</style>\n",
       "<table border=\"1\" class=\"dataframe\">\n",
       "  <thead>\n",
       "    <tr style=\"text-align: right;\">\n",
       "      <th></th>\n",
       "      <th>PassengerId</th>\n",
       "      <th>Survived</th>\n",
       "      <th>Pclass</th>\n",
       "      <th>Name</th>\n",
       "      <th>Sex</th>\n",
       "      <th>Age</th>\n",
       "      <th>SibSp</th>\n",
       "      <th>Parch</th>\n",
       "      <th>Ticket</th>\n",
       "      <th>Fare</th>\n",
       "      <th>Cabin</th>\n",
       "      <th>Embarked</th>\n",
       "    </tr>\n",
       "  </thead>\n",
       "  <tbody>\n",
       "    <tr>\n",
       "      <th>179</th>\n",
       "      <td>180</td>\n",
       "      <td>0</td>\n",
       "      <td>3</td>\n",
       "      <td>Leonard, Mr. Lionel</td>\n",
       "      <td>male</td>\n",
       "      <td>36.0</td>\n",
       "      <td>0</td>\n",
       "      <td>0</td>\n",
       "      <td>LINE</td>\n",
       "      <td>0.0</td>\n",
       "      <td>NaN</td>\n",
       "      <td>S</td>\n",
       "    </tr>\n",
       "    <tr>\n",
       "      <th>263</th>\n",
       "      <td>264</td>\n",
       "      <td>0</td>\n",
       "      <td>1</td>\n",
       "      <td>Harrison, Mr. William</td>\n",
       "      <td>male</td>\n",
       "      <td>40.0</td>\n",
       "      <td>0</td>\n",
       "      <td>0</td>\n",
       "      <td>112059</td>\n",
       "      <td>0.0</td>\n",
       "      <td>B94</td>\n",
       "      <td>S</td>\n",
       "    </tr>\n",
       "    <tr>\n",
       "      <th>271</th>\n",
       "      <td>272</td>\n",
       "      <td>1</td>\n",
       "      <td>3</td>\n",
       "      <td>Tornquist, Mr. William Henry</td>\n",
       "      <td>male</td>\n",
       "      <td>25.0</td>\n",
       "      <td>0</td>\n",
       "      <td>0</td>\n",
       "      <td>LINE</td>\n",
       "      <td>0.0</td>\n",
       "      <td>NaN</td>\n",
       "      <td>S</td>\n",
       "    </tr>\n",
       "    <tr>\n",
       "      <th>277</th>\n",
       "      <td>278</td>\n",
       "      <td>0</td>\n",
       "      <td>2</td>\n",
       "      <td>Parkes, Mr. Francis \"Frank\"</td>\n",
       "      <td>male</td>\n",
       "      <td>NaN</td>\n",
       "      <td>0</td>\n",
       "      <td>0</td>\n",
       "      <td>239853</td>\n",
       "      <td>0.0</td>\n",
       "      <td>NaN</td>\n",
       "      <td>S</td>\n",
       "    </tr>\n",
       "    <tr>\n",
       "      <th>302</th>\n",
       "      <td>303</td>\n",
       "      <td>0</td>\n",
       "      <td>3</td>\n",
       "      <td>Johnson, Mr. William Cahoone Jr</td>\n",
       "      <td>male</td>\n",
       "      <td>19.0</td>\n",
       "      <td>0</td>\n",
       "      <td>0</td>\n",
       "      <td>LINE</td>\n",
       "      <td>0.0</td>\n",
       "      <td>NaN</td>\n",
       "      <td>S</td>\n",
       "    </tr>\n",
       "    <tr>\n",
       "      <th>413</th>\n",
       "      <td>414</td>\n",
       "      <td>0</td>\n",
       "      <td>2</td>\n",
       "      <td>Cunningham, Mr. Alfred Fleming</td>\n",
       "      <td>male</td>\n",
       "      <td>NaN</td>\n",
       "      <td>0</td>\n",
       "      <td>0</td>\n",
       "      <td>239853</td>\n",
       "      <td>0.0</td>\n",
       "      <td>NaN</td>\n",
       "      <td>S</td>\n",
       "    </tr>\n",
       "    <tr>\n",
       "      <th>466</th>\n",
       "      <td>467</td>\n",
       "      <td>0</td>\n",
       "      <td>2</td>\n",
       "      <td>Campbell, Mr. William</td>\n",
       "      <td>male</td>\n",
       "      <td>NaN</td>\n",
       "      <td>0</td>\n",
       "      <td>0</td>\n",
       "      <td>239853</td>\n",
       "      <td>0.0</td>\n",
       "      <td>NaN</td>\n",
       "      <td>S</td>\n",
       "    </tr>\n",
       "    <tr>\n",
       "      <th>481</th>\n",
       "      <td>482</td>\n",
       "      <td>0</td>\n",
       "      <td>2</td>\n",
       "      <td>Frost, Mr. Anthony Wood \"Archie\"</td>\n",
       "      <td>male</td>\n",
       "      <td>NaN</td>\n",
       "      <td>0</td>\n",
       "      <td>0</td>\n",
       "      <td>239854</td>\n",
       "      <td>0.0</td>\n",
       "      <td>NaN</td>\n",
       "      <td>S</td>\n",
       "    </tr>\n",
       "    <tr>\n",
       "      <th>597</th>\n",
       "      <td>598</td>\n",
       "      <td>0</td>\n",
       "      <td>3</td>\n",
       "      <td>Johnson, Mr. Alfred</td>\n",
       "      <td>male</td>\n",
       "      <td>49.0</td>\n",
       "      <td>0</td>\n",
       "      <td>0</td>\n",
       "      <td>LINE</td>\n",
       "      <td>0.0</td>\n",
       "      <td>NaN</td>\n",
       "      <td>S</td>\n",
       "    </tr>\n",
       "    <tr>\n",
       "      <th>633</th>\n",
       "      <td>634</td>\n",
       "      <td>0</td>\n",
       "      <td>1</td>\n",
       "      <td>Parr, Mr. William Henry Marsh</td>\n",
       "      <td>male</td>\n",
       "      <td>NaN</td>\n",
       "      <td>0</td>\n",
       "      <td>0</td>\n",
       "      <td>112052</td>\n",
       "      <td>0.0</td>\n",
       "      <td>NaN</td>\n",
       "      <td>S</td>\n",
       "    </tr>\n",
       "    <tr>\n",
       "      <th>674</th>\n",
       "      <td>675</td>\n",
       "      <td>0</td>\n",
       "      <td>2</td>\n",
       "      <td>Watson, Mr. Ennis Hastings</td>\n",
       "      <td>male</td>\n",
       "      <td>NaN</td>\n",
       "      <td>0</td>\n",
       "      <td>0</td>\n",
       "      <td>239856</td>\n",
       "      <td>0.0</td>\n",
       "      <td>NaN</td>\n",
       "      <td>S</td>\n",
       "    </tr>\n",
       "    <tr>\n",
       "      <th>732</th>\n",
       "      <td>733</td>\n",
       "      <td>0</td>\n",
       "      <td>2</td>\n",
       "      <td>Knight, Mr. Robert J</td>\n",
       "      <td>male</td>\n",
       "      <td>NaN</td>\n",
       "      <td>0</td>\n",
       "      <td>0</td>\n",
       "      <td>239855</td>\n",
       "      <td>0.0</td>\n",
       "      <td>NaN</td>\n",
       "      <td>S</td>\n",
       "    </tr>\n",
       "    <tr>\n",
       "      <th>806</th>\n",
       "      <td>807</td>\n",
       "      <td>0</td>\n",
       "      <td>1</td>\n",
       "      <td>Andrews, Mr. Thomas Jr</td>\n",
       "      <td>male</td>\n",
       "      <td>39.0</td>\n",
       "      <td>0</td>\n",
       "      <td>0</td>\n",
       "      <td>112050</td>\n",
       "      <td>0.0</td>\n",
       "      <td>A36</td>\n",
       "      <td>S</td>\n",
       "    </tr>\n",
       "    <tr>\n",
       "      <th>815</th>\n",
       "      <td>816</td>\n",
       "      <td>0</td>\n",
       "      <td>1</td>\n",
       "      <td>Fry, Mr. Richard</td>\n",
       "      <td>male</td>\n",
       "      <td>NaN</td>\n",
       "      <td>0</td>\n",
       "      <td>0</td>\n",
       "      <td>112058</td>\n",
       "      <td>0.0</td>\n",
       "      <td>B102</td>\n",
       "      <td>S</td>\n",
       "    </tr>\n",
       "    <tr>\n",
       "      <th>822</th>\n",
       "      <td>823</td>\n",
       "      <td>0</td>\n",
       "      <td>1</td>\n",
       "      <td>Reuchlin, Jonkheer. John George</td>\n",
       "      <td>male</td>\n",
       "      <td>38.0</td>\n",
       "      <td>0</td>\n",
       "      <td>0</td>\n",
       "      <td>19972</td>\n",
       "      <td>0.0</td>\n",
       "      <td>NaN</td>\n",
       "      <td>S</td>\n",
       "    </tr>\n",
       "  </tbody>\n",
       "</table>\n",
       "</div>"
      ],
      "text/plain": [
       "     PassengerId  Survived  Pclass                              Name   Sex  \\\n",
       "179          180         0       3               Leonard, Mr. Lionel  male   \n",
       "263          264         0       1             Harrison, Mr. William  male   \n",
       "271          272         1       3      Tornquist, Mr. William Henry  male   \n",
       "277          278         0       2       Parkes, Mr. Francis \"Frank\"  male   \n",
       "302          303         0       3   Johnson, Mr. William Cahoone Jr  male   \n",
       "413          414         0       2    Cunningham, Mr. Alfred Fleming  male   \n",
       "466          467         0       2             Campbell, Mr. William  male   \n",
       "481          482         0       2  Frost, Mr. Anthony Wood \"Archie\"  male   \n",
       "597          598         0       3               Johnson, Mr. Alfred  male   \n",
       "633          634         0       1     Parr, Mr. William Henry Marsh  male   \n",
       "674          675         0       2        Watson, Mr. Ennis Hastings  male   \n",
       "732          733         0       2              Knight, Mr. Robert J  male   \n",
       "806          807         0       1            Andrews, Mr. Thomas Jr  male   \n",
       "815          816         0       1                  Fry, Mr. Richard  male   \n",
       "822          823         0       1   Reuchlin, Jonkheer. John George  male   \n",
       "\n",
       "      Age  SibSp  Parch  Ticket  Fare Cabin Embarked  \n",
       "179  36.0      0      0    LINE   0.0   NaN        S  \n",
       "263  40.0      0      0  112059   0.0   B94        S  \n",
       "271  25.0      0      0    LINE   0.0   NaN        S  \n",
       "277   NaN      0      0  239853   0.0   NaN        S  \n",
       "302  19.0      0      0    LINE   0.0   NaN        S  \n",
       "413   NaN      0      0  239853   0.0   NaN        S  \n",
       "466   NaN      0      0  239853   0.0   NaN        S  \n",
       "481   NaN      0      0  239854   0.0   NaN        S  \n",
       "597  49.0      0      0    LINE   0.0   NaN        S  \n",
       "633   NaN      0      0  112052   0.0   NaN        S  \n",
       "674   NaN      0      0  239856   0.0   NaN        S  \n",
       "732   NaN      0      0  239855   0.0   NaN        S  \n",
       "806  39.0      0      0  112050   0.0   A36        S  \n",
       "815   NaN      0      0  112058   0.0  B102        S  \n",
       "822  38.0      0      0   19972   0.0   NaN        S  "
      ]
     },
     "execution_count": 53,
     "metadata": {},
     "output_type": "execute_result"
    }
   ],
   "source": [
    "#As the number are less, we can display it here to understand those records\n",
    "having_0_fare_df.head(15)"
   ]
  },
  {
   "cell_type": "markdown",
   "metadata": {},
   "source": [
    "The above 15 records does not show any proper reason for the 'Fare' as zero. 8 records have no age details, and others are all having age more than 19. So we can't assume the fare as 0 for passengers with age less than some specific limit. Most of them have no cabin details, all of them are male, single passenger and they all are from Southampton. Only one of these passengers survived. We are going to consider these as erroneous data and skip them for the analysis for FARE. "
   ]
  },
  {
   "cell_type": "code",
   "execution_count": 54,
   "metadata": {
    "collapsed": true
   },
   "outputs": [],
   "source": [
    "#Make a new data frame with records having FARE greater than 0\n",
    "fare_details_df = titanic_data[(titanic_data['Fare'] > 0)]"
   ]
  },
  {
   "cell_type": "code",
   "execution_count": 55,
   "metadata": {},
   "outputs": [
    {
     "data": {
      "text/plain": [
       "<matplotlib.text.Text at 0xb058dd8>"
      ]
     },
     "execution_count": 55,
     "metadata": {},
     "output_type": "execute_result"
    },
    {
     "data": {
      "image/png": "[encoded data removed]",
      "text/plain": [
       "<matplotlib.figure.Figure at 0x4aa7080>"
      ]
     },
     "metadata": {},
     "output_type": "display_data"
    }
   ],
   "source": [
    "fare_details_df.hist(column='Fare') \n",
    "\n",
    "plt.title('Fare distribution', fontsize = 15)\n",
    "plt.axis([0,520,0,750])\n",
    "plt.xlabel('Fare')\n",
    "plt.ylabel('Passenger Count')"
   ]
  },
  {
   "cell_type": "code",
   "execution_count": 56,
   "metadata": {
    "collapsed": true
   },
   "outputs": [],
   "source": [
    "#Survived count among the valid records for FARE analysis\n",
    "survived_fare_df = fare_details_df[(fare_details_df['Survived'] == 1)]\n",
    "#Died count among the valid records for FARE analysis\n",
    "dead_fare_df = fare_details_df[(fare_details_df['Survived'] == 0)]"
   ]
  },
  {
   "cell_type": "code",
   "execution_count": 57,
   "metadata": {},
   "outputs": [
    {
     "data": {
      "text/plain": [
       "<matplotlib.text.Text at 0xbd089e8>"
      ]
     },
     "execution_count": 57,
     "metadata": {},
     "output_type": "execute_result"
    },
    {
     "data": {
      "image/png": "[encoded data removed]",
      "text/plain": [
       "<matplotlib.figure.Figure at 0xb434240>"
      ]
     },
     "metadata": {},
     "output_type": "display_data"
    }
   ],
   "source": [
    "#Plotting the histogram for each of the group with FARE distribution\n",
    "fig = plt.figure(figsize = (20,6))\n",
    "#Sub plot 1, for survived passenger\n",
    "plt.subplot(1,2,1)\n",
    "plt.hist(survived_fare_df .set_index('Survived')['Fare'], facecolor='g')\n",
    "plt.axis([0, 520, 0, 450])\n",
    "plt.ylabel('Survived Passengers')\n",
    "plt.xlabel('Fare')\n",
    "plt.title('Fare Distribution', fontsize = 15)\n",
    "#Subplot 2, for died passenger\n",
    "plt.subplot(1,2,2)\n",
    "plt.hist(dead_fare_df.set_index('Survived')['Fare'],facecolor='r')\n",
    "plt.axis([0, 520, 0, 450])\n",
    "plt.ylabel('Dead Passengers')\n",
    "plt.xlabel('Fare')\n",
    "plt.title('Fare Distribution', fontsize = 15)"
   ]
  },
  {
   "cell_type": "code",
   "execution_count": 58,
   "metadata": {},
   "outputs": [
    {
     "data": {
      "text/plain": [
       "<matplotlib.legend.Legend at 0xb786400>"
      ]
     },
     "execution_count": 58,
     "metadata": {},
     "output_type": "execute_result"
    },
    {
     "data": {
      "text/plain": [
       "<matplotlib.figure.Figure at 0xb33c898>"
      ]
     },
     "metadata": {},
     "output_type": "display_data"
    },
    {
     "data": {
      "image/png": "[encoded data removed]",
      "text/plain": [
       "<matplotlib.figure.Figure at 0xb33c908>"
      ]
     },
     "metadata": {},
     "output_type": "display_data"
    }
   ],
   "source": [
    "#dead_fare_df.rename(columns={'Fare':'D_Fare'}, inplace=True)\n",
    "plt.figure(1)\n",
    "#Plotting the comparison histogram\n",
    "fig = plt.figure(figsize = (8,5))\n",
    "ax = fig.gca()\n",
    "survived_fare_df.set_index('Survived')['Fare'].plot.hist(ax = ax, label = 'Survived')\n",
    "dead_fare_df.set_index('Survived')['Fare'].plot.hist(ax = ax, label = 'Died')\n",
    "plt.xlabel('Fare')\n",
    "plt.ylabel('Pasenger Count')\n",
    "plt.title('Comparison of Fare details for Passengers', fontsize = 15)\n",
    "plt.legend()"
   ]
  },
  {
   "cell_type": "markdown",
   "metadata": {},
   "source": [
    "The variation of fare is from 32 unit to 512 unit. But we can see most of them are below 50 unit.\n",
    "We can take the MEAN as mark and will find how many passengers are below that and how many are above that."
   ]
  },
  {
   "cell_type": "code",
   "execution_count": 59,
   "metadata": {},
   "outputs": [
    {
     "name": "stdout",
     "output_type": "stream",
     "text": [
      "32.76\n",
      "(667, 209)\n"
     ]
    }
   ],
   "source": [
    "#Mean of FARE\n",
    "fare_mean = fare_details_df['Fare'].mean()\n",
    "#Passenger count below and equal to MEAN\n",
    "pass_count_below_mean = fare_details_df[(fare_details_df['Fare'] <= fare_mean)].Fare.le(fare_mean).sum()\n",
    "#Passenger count above MEAN\n",
    "pass_count_above_mean = fare_details_df[(fare_details_df['Fare'] > fare_mean)].Fare.gt(fare_mean).sum()\n",
    "\n",
    "print(round(fare_mean,2))\n",
    "print(pass_count_below_mean,pass_count_above_mean)"
   ]
  },
  {
   "cell_type": "code",
   "execution_count": 60,
   "metadata": {},
   "outputs": [
    {
     "name": "stdout",
     "output_type": "stream",
     "text": [
      "3\n"
     ]
    }
   ],
   "source": [
    "pass_count_gt_400 = fare_details_df[(fare_details_df['Fare'] > 400)].Fare.gt(400).sum()\n",
    "print(pass_count_gt_400)"
   ]
  },
  {
   "cell_type": "markdown",
   "metadata": {},
   "source": [
    "667 out of 876, that means 76.14% passengers paid less than or equal to 32.76 unit as fare. Only 3 passengers have paid 512.3293 unit and all of them have survived. We can check the survival rate with fare below mean and above mean."
   ]
  },
  {
   "cell_type": "code",
   "execution_count": 61,
   "metadata": {},
   "outputs": [
    {
     "name": "stdout",
     "output_type": "stream",
     "text": [
      "(451, 216, 84, 125)\n"
     ]
    }
   ],
   "source": [
    "#Died passenger count beow MEAN\n",
    "dead_pass_below_mean = fare_details_df[(fare_details_df['Survived'] == 0) & (fare_details_df['Fare'] <= fare_mean)].Fare.le(fare_mean).sum()\n",
    "#Survived passenger count below MEAN\n",
    "survived_pass_below_mean = fare_details_df[(fare_details_df['Survived'] == 1) & (fare_details_df['Fare'] <= fare_mean)].Fare.le(fare_mean).sum()\n",
    "#Died passenger count above MEAN\n",
    "dead_pass_above_mean = fare_details_df[(fare_details_df['Survived'] == 0) & (fare_details_df['Fare'] > fare_mean)].Fare.gt(fare_mean).sum()\n",
    "#Died passenger count above MEAN\n",
    "survived_pass_above_mean = fare_details_df[(fare_details_df['Survived'] == 1) & (fare_details_df['Fare'] > fare_mean)].Fare.gt(fare_mean).sum()\n",
    "\n",
    "print(dead_pass_below_mean, survived_pass_below_mean, dead_pass_above_mean, survived_pass_above_mean)"
   ]
  },
  {
   "cell_type": "code",
   "execution_count": 62,
   "metadata": {},
   "outputs": [
    {
     "data": {
      "text/plain": [
       "876"
      ]
     },
     "execution_count": 62,
     "metadata": {},
     "output_type": "execute_result"
    }
   ],
   "source": [
    "#Quick check for the values found\n",
    "451 + 216 + 84 + 125"
   ]
  },
  {
   "cell_type": "code",
   "execution_count": 63,
   "metadata": {},
   "outputs": [
    {
     "data": {
      "text/plain": [
       "891"
      ]
     },
     "execution_count": 63,
     "metadata": {},
     "output_type": "execute_result"
    }
   ],
   "source": [
    "876 + having_0_fare_df.shape[0]"
   ]
  },
  {
   "cell_type": "markdown",
   "metadata": {},
   "source": [
    "Get the visualization of above values"
   ]
  },
  {
   "cell_type": "code",
   "execution_count": 64,
   "metadata": {
    "collapsed": true
   },
   "outputs": [],
   "source": [
    "#Populating simple list for Pclass pie chart\n",
    "fare_pieplot_data = [{'Column' : 'Below Mean_Survived', 'Value' : survived_pass_below_mean},\n",
    "                     {'Column' : 'Below Mean_Dead', 'Value' : dead_pass_below_mean},\n",
    "                     {'Column' : 'Above Mean_Survived', 'Value' : survived_pass_above_mean},\n",
    "                     {'Column' : 'Above Mean_Dead', 'Value' : dead_pass_above_mean}]"
   ]
  },
  {
   "cell_type": "code",
   "execution_count": 65,
   "metadata": {},
   "outputs": [
    {
     "data": {
      "image/png": "[encoded data removed]",
      "text/plain": [
       "<matplotlib.figure.Figure at 0xb146128>"
      ]
     },
     "metadata": {},
     "output_type": "display_data"
    }
   ],
   "source": [
    "#Calling the method to plot the diagram\n",
    "title_fare = 'Survival Ratio with FARE'\n",
    "custom_pieplot(fare_pieplot_data, title_fare)"
   ]
  },
  {
   "cell_type": "code",
   "execution_count": 66,
   "metadata": {},
   "outputs": [
    {
     "name": "stdout",
     "output_type": "stream",
     "text": [
      "(32.38, 59.81, 67.62, 40.19)\n"
     ]
    }
   ],
   "source": [
    "survival_rate_below_meanfare = float(float(survived_pass_below_mean)/float(pass_count_below_mean)) * 100\n",
    "survival_rate_above_meanfare = float(float(survived_pass_above_mean)/float(pass_count_above_mean)) * 100\n",
    "dead_rate_below_meanfare = float(float(dead_pass_below_mean)/float(pass_count_below_mean)) * 100\n",
    "dead_rate_above_meanfare = float(float(dead_pass_above_mean)/float(pass_count_above_mean)) * 100\n",
    "\n",
    "print(round(survival_rate_below_meanfare,2), round(survival_rate_above_meanfare,2),\n",
    "      round(dead_rate_below_meanfare,2), round(dead_rate_above_meanfare,2))"
   ]
  },
  {
   "cell_type": "markdown",
   "metadata": {},
   "source": [
    "The survival rate among passengers of fare below mean is only 32.38% where as the same is 67.62% among the passengers with fare above mean. Aparently seeing the initial histogram of fare distribution, it was looking like fare was not much affectng the survival rate, the bar is higher as the frequency is more for lower range fare. But these percentage values are indicating clearly that passenger with higher fare had more chance to survive."
   ]
  },
  {
   "cell_type": "markdown",
   "metadata": {},
   "source": [
    "# Presence of family members and Survival Rate"
   ]
  },
  {
   "cell_type": "code",
   "execution_count": 67,
   "metadata": {},
   "outputs": [
    {
     "data": {
      "text/plain": [
       "0    608\n",
       "1    209\n",
       "2     28\n",
       "4     18\n",
       "3     16\n",
       "8      7\n",
       "5      5\n",
       "Name: SibSp, dtype: int64"
      ]
     },
     "execution_count": 67,
     "metadata": {},
     "output_type": "execute_result"
    }
   ],
   "source": [
    "titanic_data['SibSp'].value_counts()"
   ]
  },
  {
   "cell_type": "code",
   "execution_count": 68,
   "metadata": {},
   "outputs": [
    {
     "data": {
      "text/plain": [
       "0    678\n",
       "1    118\n",
       "2     80\n",
       "5      5\n",
       "3      5\n",
       "4      4\n",
       "6      1\n",
       "Name: Parch, dtype: int64"
      ]
     },
     "execution_count": 68,
     "metadata": {},
     "output_type": "execute_result"
    }
   ],
   "source": [
    "titanic_data['Parch'].value_counts()"
   ]
  },
  {
   "cell_type": "code",
   "execution_count": 69,
   "metadata": {},
   "outputs": [
    {
     "name": "stdout",
     "output_type": "stream",
     "text": [
      "0\n",
      "0\n"
     ]
    }
   ],
   "source": [
    "#Next find if any null value in SibSp or Parch column\n",
    "print(titanic_data[pd.isnull(titanic_data['SibSp'])].shape[0])\n",
    "print(titanic_data[pd.isnull(titanic_data['Parch'])].shape[0])"
   ]
  },
  {
   "cell_type": "markdown",
   "metadata": {},
   "source": [
    "Hence, there is no row having blank value for 'SibSp' or 'Parch' column. So the full file with 891 record will be considered for analysis."
   ]
  },
  {
   "cell_type": "code",
   "execution_count": 70,
   "metadata": {},
   "outputs": [
    {
     "data": {
      "text/html": [
       "<div>\n",
       "<style>\n",
       "    .dataframe thead tr:only-child th {\n",
       "        text-align: right;\n",
       "    }\n",
       "\n",
       "    .dataframe thead th {\n",
       "        text-align: left;\n",
       "    }\n",
       "\n",
       "    .dataframe tbody tr th {\n",
       "        vertical-align: top;\n",
       "    }\n",
       "</style>\n",
       "<table border=\"1\" class=\"dataframe\">\n",
       "  <thead>\n",
       "    <tr style=\"text-align: right;\">\n",
       "      <th></th>\n",
       "      <th>PassengerId</th>\n",
       "      <th>Survived</th>\n",
       "      <th>Pclass</th>\n",
       "      <th>Name</th>\n",
       "      <th>Sex</th>\n",
       "      <th>Age</th>\n",
       "      <th>SibSp</th>\n",
       "      <th>Parch</th>\n",
       "      <th>Ticket</th>\n",
       "      <th>Fare</th>\n",
       "      <th>Cabin</th>\n",
       "      <th>Embarked</th>\n",
       "    </tr>\n",
       "  </thead>\n",
       "  <tbody>\n",
       "    <tr>\n",
       "      <th>2</th>\n",
       "      <td>3</td>\n",
       "      <td>1</td>\n",
       "      <td>3</td>\n",
       "      <td>Heikkinen, Miss. Laina</td>\n",
       "      <td>female</td>\n",
       "      <td>26.0</td>\n",
       "      <td>0</td>\n",
       "      <td>0</td>\n",
       "      <td>STON/O2. 3101282</td>\n",
       "      <td>7.9250</td>\n",
       "      <td>NaN</td>\n",
       "      <td>S</td>\n",
       "    </tr>\n",
       "    <tr>\n",
       "      <th>4</th>\n",
       "      <td>5</td>\n",
       "      <td>0</td>\n",
       "      <td>3</td>\n",
       "      <td>Allen, Mr. William Henry</td>\n",
       "      <td>male</td>\n",
       "      <td>35.0</td>\n",
       "      <td>0</td>\n",
       "      <td>0</td>\n",
       "      <td>373450</td>\n",
       "      <td>8.0500</td>\n",
       "      <td>NaN</td>\n",
       "      <td>S</td>\n",
       "    </tr>\n",
       "    <tr>\n",
       "      <th>5</th>\n",
       "      <td>6</td>\n",
       "      <td>0</td>\n",
       "      <td>3</td>\n",
       "      <td>Moran, Mr. James</td>\n",
       "      <td>male</td>\n",
       "      <td>NaN</td>\n",
       "      <td>0</td>\n",
       "      <td>0</td>\n",
       "      <td>330877</td>\n",
       "      <td>8.4583</td>\n",
       "      <td>NaN</td>\n",
       "      <td>Q</td>\n",
       "    </tr>\n",
       "    <tr>\n",
       "      <th>6</th>\n",
       "      <td>7</td>\n",
       "      <td>0</td>\n",
       "      <td>1</td>\n",
       "      <td>McCarthy, Mr. Timothy J</td>\n",
       "      <td>male</td>\n",
       "      <td>54.0</td>\n",
       "      <td>0</td>\n",
       "      <td>0</td>\n",
       "      <td>17463</td>\n",
       "      <td>51.8625</td>\n",
       "      <td>E46</td>\n",
       "      <td>S</td>\n",
       "    </tr>\n",
       "    <tr>\n",
       "      <th>11</th>\n",
       "      <td>12</td>\n",
       "      <td>1</td>\n",
       "      <td>1</td>\n",
       "      <td>Bonnell, Miss. Elizabeth</td>\n",
       "      <td>female</td>\n",
       "      <td>58.0</td>\n",
       "      <td>0</td>\n",
       "      <td>0</td>\n",
       "      <td>113783</td>\n",
       "      <td>26.5500</td>\n",
       "      <td>C103</td>\n",
       "      <td>S</td>\n",
       "    </tr>\n",
       "  </tbody>\n",
       "</table>\n",
       "</div>"
      ],
      "text/plain": [
       "    PassengerId  Survived  Pclass                      Name     Sex   Age  \\\n",
       "2             3         1       3    Heikkinen, Miss. Laina  female  26.0   \n",
       "4             5         0       3  Allen, Mr. William Henry    male  35.0   \n",
       "5             6         0       3          Moran, Mr. James    male   NaN   \n",
       "6             7         0       1   McCarthy, Mr. Timothy J    male  54.0   \n",
       "11           12         1       1  Bonnell, Miss. Elizabeth  female  58.0   \n",
       "\n",
       "    SibSp  Parch            Ticket     Fare Cabin Embarked  \n",
       "2       0      0  STON/O2. 3101282   7.9250   NaN        S  \n",
       "4       0      0            373450   8.0500   NaN        S  \n",
       "5       0      0            330877   8.4583   NaN        Q  \n",
       "6       0      0             17463  51.8625   E46        S  \n",
       "11      0      0            113783  26.5500  C103        S  "
      ]
     },
     "execution_count": 70,
     "metadata": {},
     "output_type": "execute_result"
    }
   ],
   "source": [
    "#Get the passengers having no family member on boarded \n",
    "single_pass_df = titanic_data[((titanic_data['Parch'] == 0) & (titanic_data['SibSp'] == 0))]\n",
    "single_pass_df.head()"
   ]
  },
  {
   "cell_type": "code",
   "execution_count": 71,
   "metadata": {},
   "outputs": [
    {
     "data": {
      "text/plain": [
       "537"
      ]
     },
     "execution_count": 71,
     "metadata": {},
     "output_type": "execute_result"
    }
   ],
   "source": [
    "#Passenger count with no family members abroaded\n",
    "single_pass_count = single_pass_df.shape[0]\n",
    "single_pass_count"
   ]
  },
  {
   "cell_type": "code",
   "execution_count": 72,
   "metadata": {
    "collapsed": true
   },
   "outputs": [],
   "source": [
    "#Passenger with Sibling/Spouse and Parent/Children both\n",
    "pass_wt_sibsp_and_parch_df = titanic_data[((titanic_data['Parch'] != 0) & (titanic_data['SibSp'] != 0))]\n",
    "#Passenger with Sibling/Spouse and NO Parent/Children\n",
    "pass_wt_sibsp_no_parch_df = titanic_data[((titanic_data['Parch'] == 0) & (titanic_data['SibSp'] != 0))]\n",
    "#Passenger with Parent/Children and NO Sibling/Spouse\n",
    "pass_no_sibsp_wt_parch_df = titanic_data[((titanic_data['Parch'] != 0) & (titanic_data['SibSp'] == 0))]"
   ]
  },
  {
   "cell_type": "code",
   "execution_count": 73,
   "metadata": {
    "collapsed": true
   },
   "outputs": [],
   "source": [
    "#Passenger count for each case\n",
    "single_pass_survi_cnt = single_pass_df.Survived.eq(1).sum()\n",
    "single_pass_dead_cnt = single_pass_df.Survived.eq(0).sum()\n",
    "pass_wt_sibsp_sur_cnt = pass_wt_sibsp_no_parch_df.Survived.eq(1).sum()\n",
    "pass_wt_sibsp_dead_cnt = pass_wt_sibsp_no_parch_df.Survived.eq(0).sum()\n",
    "pass_wt_parch_sur_cnt = pass_no_sibsp_wt_parch_df.Survived.eq(1).sum()\n",
    "pass_wt_parch_dead_cnt = pass_no_sibsp_wt_parch_df.Survived.eq(0).sum()\n",
    "pass_wt_sibsp_and_parch_sur_cnt = pass_wt_sibsp_and_parch_df.Survived.eq(1).sum()\n",
    "pass_wt_sibsp_and_parch_dead_cnt = pass_wt_sibsp_and_parch_df.Survived.eq(0).sum()"
   ]
  },
  {
   "cell_type": "code",
   "execution_count": 74,
   "metadata": {},
   "outputs": [
    {
     "name": "stdout",
     "output_type": "stream",
     "text": [
      "(163, 374, 70, 71, 47, 24, 62, 80)\n"
     ]
    }
   ],
   "source": [
    "print(single_pass_survi_cnt ,\n",
    "single_pass_dead_cnt ,\n",
    "pass_wt_sibsp_sur_cnt ,\n",
    "pass_wt_sibsp_dead_cnt ,\n",
    "pass_wt_parch_sur_cnt ,\n",
    "pass_wt_parch_dead_cnt ,\n",
    "pass_wt_sibsp_and_parch_sur_cnt,\n",
    "pass_wt_sibsp_and_parch_dead_cnt )"
   ]
  },
  {
   "cell_type": "code",
   "execution_count": 75,
   "metadata": {},
   "outputs": [
    {
     "data": {
      "text/plain": [
       "891"
      ]
     },
     "execution_count": 75,
     "metadata": {},
     "output_type": "execute_result"
    }
   ],
   "source": [
    "#Quick check on the count sum\n",
    "163+ 374+ 47+ 24+ 70+ 71+ 62+ 80"
   ]
  },
  {
   "cell_type": "code",
   "execution_count": 76,
   "metadata": {
    "collapsed": true
   },
   "outputs": [],
   "source": [
    " pass_family_data = [{'Column':'Survived Single Passengers', 'Value':single_pass_survi_cnt},\n",
    "                     {'Column':'Dead Single Passengers', 'Value':single_pass_dead_cnt},\n",
    "                     {'Column':'Survived Passengers with SibSp', 'Value':pass_wt_sibsp_sur_cnt},\n",
    "                     {'Column':'Dead Passengers with SibSp', 'Value':pass_wt_sibsp_dead_cnt},\n",
    "                     {'Column':'Survived Passengers with Parch', 'Value':pass_wt_parch_sur_cnt},\n",
    "                     {'Column':'Dead Passengers with Parch', 'Value':pass_wt_parch_dead_cnt},\n",
    "                     {'Column':'Survived Passengers with both SibSp & Parch', 'Value':pass_wt_sibsp_and_parch_sur_cnt},\n",
    "                     {'Column':'Dead Passengers with both SibSp & Parch', 'Value':pass_wt_sibsp_and_parch_dead_cnt}]"
   ]
  },
  {
   "cell_type": "code",
   "execution_count": 77,
   "metadata": {},
   "outputs": [
    {
     "data": {
      "image/png": "[encoded data removed]",
      "text/plain": [
       "<matplotlib.figure.Figure at 0xbab7a90>"
      ]
     },
     "metadata": {},
     "output_type": "display_data"
    }
   ],
   "source": [
    "#Calling the method to plot the diagram\n",
    "title_family = 'Survival Ratio on presence of Family'\n",
    "custom_pieplot(pass_family_data,title_family)"
   ]
  },
  {
   "cell_type": "markdown",
   "metadata": {},
   "source": [
    "We can see more than 60% passengers are having no family abroaded with them. This visualization is bit more in details. We will now try to get some summerised data by using two groups only. One group for single and other group for passeneger with any family members."
   ]
  },
  {
   "cell_type": "code",
   "execution_count": 78,
   "metadata": {},
   "outputs": [
    {
     "data": {
      "text/plain": [
       "354"
      ]
     },
     "execution_count": 78,
     "metadata": {},
     "output_type": "execute_result"
    }
   ],
   "source": [
    "#Passenger with any family member\n",
    "pass_wt_family_df = titanic_data[((titanic_data['Parch'] != 0) | (titanic_data['SibSp'] != 0))]\n",
    "pass_wt_family_count = pass_wt_family_df.shape[0]\n",
    "pass_wt_family_count"
   ]
  },
  {
   "cell_type": "code",
   "execution_count": 79,
   "metadata": {},
   "outputs": [
    {
     "name": "stdout",
     "output_type": "stream",
     "text": [
      "(179, 175)\n"
     ]
    }
   ],
   "source": [
    "pass_wt_family_sur_count = pass_wt_family_df[(pass_wt_family_df['Survived'] == 1)].Survived.eq(1).sum()\n",
    "pass_wt_family_dead_count = pass_wt_family_df[(pass_wt_family_df['Survived'] == 0)].Survived.eq(0).sum()\n",
    "print(pass_wt_family_sur_count, pass_wt_family_dead_count)"
   ]
  },
  {
   "cell_type": "code",
   "execution_count": 80,
   "metadata": {
    "collapsed": true
   },
   "outputs": [],
   "source": [
    "#Create two list for pie plot\n",
    "single_pass_pie_data = [{'Column':'Survived', 'Value':single_pass_survi_cnt},\n",
    "                        {'Column':'Died', 'Value':single_pass_dead_cnt}]\n",
    "             \n",
    "pass_wt_family_pie_data = [{'Column':'Survived', 'Value': pass_wt_family_sur_count},\n",
    "                           {'Column':'Died', 'Value':pass_wt_family_dead_count}]\n",
    "single_pass_pie_df = pd.DataFrame(single_pass_pie_data)\n",
    "pass_wt_family_pie_df = pd.DataFrame(pass_wt_family_pie_data)"
   ]
  },
  {
   "cell_type": "code",
   "execution_count": 81,
   "metadata": {},
   "outputs": [
    {
     "data": {
      "image/png": "[encoded data removed]",
      "text/plain": [
       "<matplotlib.figure.Figure at 0xc376240>"
      ]
     },
     "metadata": {},
     "output_type": "display_data"
    }
   ],
   "source": [
    "colors = [ \"#8ea71d\", \"#85b0b7\", \"#CB5C3B\"]\n",
    "fig = plt.figure(figsize = (15,3))\n",
    "#Subplot 1, for single passengers \n",
    "plt.subplot(1,2,1)\n",
    "plt.pie(single_pass_pie_df['Value'], \n",
    "    labels=single_pass_pie_df['Column'],\n",
    "    shadow=False,\n",
    "    colors= colors,\n",
    "    startangle=90,\n",
    "    autopct='%1.1f%%',\n",
    "    )\n",
    "plt.title('Single Passenger', fontsize = 15)\n",
    "plt.axis('equal')\n",
    "plt.tight_layout()\n",
    "#Subplot2, for passengers with family\n",
    "plt.subplot(1,2,2)\n",
    "plt.pie(pass_wt_family_pie_df['Value'], \n",
    "    labels=pass_wt_family_pie_df['Column'],\n",
    "    shadow=False,\n",
    "    colors=colors,\n",
    "    startangle=90,\n",
    "    autopct='%1.1f%%',\n",
    "    )\n",
    "plt.title('Passenegr with Family', fontsize = 15)\n",
    "plt.axis('equal')\n",
    "plt.tight_layout()\n",
    "plt.show()"
   ]
  },
  {
   "cell_type": "markdown",
   "metadata": {},
   "source": [
    "The survival rate for single passengers is 30.4% among all the single passengers. And the same for passenger with family among them is 50.6%. So passenegrs with family are more likely to survive than single passengers."
   ]
  },
  {
   "cell_type": "markdown",
   "metadata": {},
   "source": [
    "# Port of embarkation on survival rate"
   ]
  },
  {
   "cell_type": "code",
   "execution_count": 82,
   "metadata": {},
   "outputs": [
    {
     "data": {
      "text/plain": [
       "S    644\n",
       "C    168\n",
       "Q     77\n",
       "Name: Embarked, dtype: int64"
      ]
     },
     "execution_count": 82,
     "metadata": {},
     "output_type": "execute_result"
    }
   ],
   "source": [
    "titanic_data['Embarked'].value_counts()"
   ]
  },
  {
   "cell_type": "markdown",
   "metadata": {},
   "source": [
    "There are three port of embarkation in the file.\n",
    "C = Cherbourg, Q = Queenstown, S = Southampton"
   ]
  },
  {
   "cell_type": "code",
   "execution_count": 83,
   "metadata": {},
   "outputs": [
    {
     "data": {
      "text/plain": [
       "889"
      ]
     },
     "execution_count": 83,
     "metadata": {},
     "output_type": "execute_result"
    }
   ],
   "source": [
    "#Quick check on value found by comparing the sum\n",
    "644 + 168 +77"
   ]
  },
  {
   "cell_type": "markdown",
   "metadata": {},
   "source": [
    "The sum is not same as row count 891 of main file. There must be some error in data."
   ]
  },
  {
   "cell_type": "code",
   "execution_count": 84,
   "metadata": {},
   "outputs": [
    {
     "name": "stdout",
     "output_type": "stream",
     "text": [
      "2\n"
     ]
    },
    {
     "data": {
      "text/html": [
       "<div>\n",
       "<style>\n",
       "    .dataframe thead tr:only-child th {\n",
       "        text-align: right;\n",
       "    }\n",
       "\n",
       "    .dataframe thead th {\n",
       "        text-align: left;\n",
       "    }\n",
       "\n",
       "    .dataframe tbody tr th {\n",
       "        vertical-align: top;\n",
       "    }\n",
       "</style>\n",
       "<table border=\"1\" class=\"dataframe\">\n",
       "  <thead>\n",
       "    <tr style=\"text-align: right;\">\n",
       "      <th></th>\n",
       "      <th>PassengerId</th>\n",
       "      <th>Survived</th>\n",
       "      <th>Pclass</th>\n",
       "      <th>Name</th>\n",
       "      <th>Sex</th>\n",
       "      <th>Age</th>\n",
       "      <th>SibSp</th>\n",
       "      <th>Parch</th>\n",
       "      <th>Ticket</th>\n",
       "      <th>Fare</th>\n",
       "      <th>Cabin</th>\n",
       "      <th>Embarked</th>\n",
       "    </tr>\n",
       "  </thead>\n",
       "  <tbody>\n",
       "    <tr>\n",
       "      <th>61</th>\n",
       "      <td>62</td>\n",
       "      <td>1</td>\n",
       "      <td>1</td>\n",
       "      <td>Icard, Miss. Amelie</td>\n",
       "      <td>female</td>\n",
       "      <td>38.0</td>\n",
       "      <td>0</td>\n",
       "      <td>0</td>\n",
       "      <td>113572</td>\n",
       "      <td>80.0</td>\n",
       "      <td>B28</td>\n",
       "      <td>NaN</td>\n",
       "    </tr>\n",
       "    <tr>\n",
       "      <th>829</th>\n",
       "      <td>830</td>\n",
       "      <td>1</td>\n",
       "      <td>1</td>\n",
       "      <td>Stone, Mrs. George Nelson (Martha Evelyn)</td>\n",
       "      <td>female</td>\n",
       "      <td>62.0</td>\n",
       "      <td>0</td>\n",
       "      <td>0</td>\n",
       "      <td>113572</td>\n",
       "      <td>80.0</td>\n",
       "      <td>B28</td>\n",
       "      <td>NaN</td>\n",
       "    </tr>\n",
       "  </tbody>\n",
       "</table>\n",
       "</div>"
      ],
      "text/plain": [
       "     PassengerId  Survived  Pclass                                       Name  \\\n",
       "61            62         1       1                        Icard, Miss. Amelie   \n",
       "829          830         1       1  Stone, Mrs. George Nelson (Martha Evelyn)   \n",
       "\n",
       "        Sex   Age  SibSp  Parch  Ticket  Fare Cabin Embarked  \n",
       "61   female  38.0      0      0  113572  80.0   B28      NaN  \n",
       "829  female  62.0      0      0  113572  80.0   B28      NaN  "
      ]
     },
     "execution_count": 84,
     "metadata": {},
     "output_type": "execute_result"
    }
   ],
   "source": [
    "#Find errorneous data\n",
    "embark_error_data = titanic_data[pd.isnull(titanic_data['Embarked'])]\n",
    "print(embark_error_data.shape[0])\n",
    "embark_error_data.head()"
   ]
  },
  {
   "cell_type": "markdown",
   "metadata": {},
   "source": [
    "Two records are found in the file for which no value in maintained for 'Embarked'. We will remove these two record for our analysis."
   ]
  },
  {
   "cell_type": "code",
   "execution_count": 85,
   "metadata": {},
   "outputs": [
    {
     "data": {
      "text/plain": [
       "889"
      ]
     },
     "execution_count": 85,
     "metadata": {},
     "output_type": "execute_result"
    }
   ],
   "source": [
    "#Making copy of data to keep the main file untouched for furture analysis\n",
    "embark_final_df = titanic_data[['Survived','Embarked']].copy()\n",
    "#Removing records having no Embarked details\n",
    "embark_final_df = embark_final_df[pd.notnull(embark_final_df['Embarked'])]\n",
    "embark_final_df.shape[0]"
   ]
  },
  {
   "cell_type": "code",
   "execution_count": 86,
   "metadata": {},
   "outputs": [
    {
     "name": "stdout",
     "output_type": "stream",
     "text": [
      "(644, 168, 77)\n"
     ]
    }
   ],
   "source": [
    "#Passenegr count from each of the port\n",
    "pass_embark_s = embark_final_df[(embark_final_df['Embarked'] == 'S')].Embarked.eq('S').sum()\n",
    "pass_embark_c = embark_final_df[(embark_final_df['Embarked'] == 'C')].Embarked.eq('C').sum()\n",
    "pass_embark_q = embark_final_df[(embark_final_df['Embarked'] == 'Q')].Embarked.eq('Q').sum()\n",
    "\n",
    "print(pass_embark_s, pass_embark_c, pass_embark_q)"
   ]
  },
  {
   "cell_type": "code",
   "execution_count": 87,
   "metadata": {},
   "outputs": [
    {
     "data": {
      "text/plain": [
       "889"
      ]
     },
     "execution_count": 87,
     "metadata": {},
     "output_type": "execute_result"
    }
   ],
   "source": [
    "#Quick check by sum\n",
    "644+ 168+ 77"
   ]
  },
  {
   "cell_type": "code",
   "execution_count": 88,
   "metadata": {
    "collapsed": true
   },
   "outputs": [],
   "source": [
    "#List for pie chart\n",
    "embarked_pie_data = [{'Column' : 'Southampton_Passengers', 'Value' : pass_embark_s},\n",
    "                     {'Column' : 'Queenstown_Passengers', 'Value' : pass_embark_c},\n",
    "                     {'Column' : 'Cherbourg_Passengers', 'Value' : pass_embark_q}]"
   ]
  },
  {
   "cell_type": "code",
   "execution_count": 89,
   "metadata": {},
   "outputs": [
    {
     "data": {
      "image/png": "[encoded data removed]",
      "text/plain": [
       "<matplotlib.figure.Figure at 0xc19c9b0>"
      ]
     },
     "metadata": {},
     "output_type": "display_data"
    }
   ],
   "source": [
    "#Calling the method to plot the diagram\n",
    "title_embark = 'Passenger Ratio by Port of Embarkation'\n",
    "custom_pieplot(embarked_pie_data,title_embark)"
   ]
  },
  {
   "cell_type": "markdown",
   "metadata": {},
   "source": [
    "72.4% passengers are from Southampton, 18.9% from Cherbourge and rest 8.7% are from Queenstwon among the 889 passengers. We will check now the survived and dead passengers ratio in each of the port separately"
   ]
  },
  {
   "cell_type": "code",
   "execution_count": 90,
   "metadata": {},
   "outputs": [
    {
     "name": "stdout",
     "output_type": "stream",
     "text": [
      "(217, 427, 93, 75, 30, 47)\n"
     ]
    }
   ],
   "source": [
    "#Survived and died passenger count of each port\n",
    "survived_pass_s = embark_final_df[(embark_final_df['Survived'] == 1) & (embark_final_df['Embarked'] == 'S')].Embarked.eq('S').sum()\n",
    "dead_pass_s = embark_final_df[(embark_final_df['Survived'] == 0) & (embark_final_df['Embarked'] == 'S')].Embarked.eq('S').sum()\n",
    "survived_pass_c = embark_final_df[(embark_final_df['Survived'] == 1) & (embark_final_df['Embarked'] == 'C')].Embarked.eq('C').sum()\n",
    "dead_pass_c = embark_final_df[(embark_final_df['Survived'] == 0) & (embark_final_df['Embarked'] == 'C')].Embarked.eq('C').sum()\n",
    "survived_pass_q = embark_final_df[(embark_final_df['Survived'] == 1) & (embark_final_df['Embarked'] == 'Q')].Embarked.eq('Q').sum()\n",
    "dead_pass_q = embark_final_df[(embark_final_df['Survived'] == 0) & (embark_final_df['Embarked'] == 'Q')].Embarked.eq('Q').sum()\n",
    "\n",
    "print(survived_pass_s, dead_pass_s, survived_pass_c, dead_pass_c , survived_pass_q,dead_pass_q )"
   ]
  },
  {
   "cell_type": "code",
   "execution_count": 91,
   "metadata": {},
   "outputs": [
    {
     "data": {
      "text/plain": [
       "889"
      ]
     },
     "execution_count": 91,
     "metadata": {},
     "output_type": "execute_result"
    }
   ],
   "source": [
    "#Quick check by sum\n",
    "217+ 427+ 93+ 75+ 30+ 47"
   ]
  },
  {
   "cell_type": "code",
   "execution_count": 92,
   "metadata": {
    "collapsed": true
   },
   "outputs": [],
   "source": [
    "#Prepare data frame for pie plot (217, 427, 93, 75, 30, 47)\n",
    "embark_pieplot_data_all = [{'Column' : 'Southampton_Survived_Passengers', 'Value' :survived_pass_s},\n",
    "             {'Column' : 'Southampton_Dead_Passengers', 'Value' : dead_pass_s},\n",
    "             {'Column' : 'Queenstown_Survived_Passengers', 'Value' : survived_pass_q},\n",
    "             {'Column' : 'Queenstown_Dead_Passengers', 'Value' : dead_pass_q},\n",
    "             {'Column' : 'Cherbourg_Survived_Passengers', 'Value' : survived_pass_c},\n",
    "             {'Column' : 'Cherbourg_Dead_Passengers', 'Value' : dead_pass_c}]"
   ]
  },
  {
   "cell_type": "code",
   "execution_count": 93,
   "metadata": {},
   "outputs": [
    {
     "data": {
      "image/png": "[encoded data removed]",
      "text/plain": [
       "<matplotlib.figure.Figure at 0xc5569b0>"
      ]
     },
     "metadata": {},
     "output_type": "display_data"
    }
   ],
   "source": [
    "#Calling the method to plot the diagram\n",
    "title_port2 = 'Survived and Died Percentage'\n",
    "custom_pieplot(embark_pieplot_data_all, title_port2)"
   ]
  },
  {
   "cell_type": "markdown",
   "metadata": {},
   "source": [
    "For Southampton, percentage of dead passengers is almost twice than the percentage of survived passengers. For Queenstown, the ratio is slightly lower than twice. And for Checbourg the survival rate is higher than the same of dead passenger."
   ]
  },
  {
   "cell_type": "code",
   "execution_count": 94,
   "metadata": {
    "collapsed": true
   },
   "outputs": [],
   "source": [
    "#Create three list for pie plot\n",
    "s_pie_data = [{'Column' : 'Survived', 'Value' : survived_pass_s},\n",
    "              {'Column' : 'Died', 'Value' : dead_pass_s}]\n",
    "             \n",
    "q_pie_data = [{'Column' : 'Survived', 'Value' : survived_pass_q},\n",
    "              {'Column' : 'Died', 'Value' : dead_pass_q}]\n",
    "\n",
    "c_pie_data = [{'Column' : 'Survived', 'Value' : survived_pass_c},\n",
    "              {'Column' : 'Died', 'Value' : dead_pass_c}]\n",
    "\n",
    "s_pie_df = pd.DataFrame(s_pie_data)\n",
    "c_pie_df = pd.DataFrame(c_pie_data)\n",
    "q_pie_df = pd.DataFrame(q_pie_data)"
   ]
  },
  {
   "cell_type": "code",
   "execution_count": 95,
   "metadata": {},
   "outputs": [
    {
     "data": {
      "image/png": "[encoded data removed]",
      "text/plain": [
       "<matplotlib.figure.Figure at 0xc366908>"
      ]
     },
     "metadata": {},
     "output_type": "display_data"
    }
   ],
   "source": [
    "fig = plt.figure(figsize = (15,4))\n",
    " \n",
    "plt.subplot(1,3,1)\n",
    "plt.pie(s_pie_df['Value'], \n",
    "    labels=s_pie_df['Column'],\n",
    "    shadow=False,\n",
    "    colors= colors,\n",
    "    startangle=90,\n",
    "    autopct='%1.1f%%',\n",
    "    )\n",
    "plt.axis('equal')\n",
    "plt.tight_layout()\n",
    "plt.title('Southampton Passengers', fontsize = 15)\n",
    "\n",
    "plt.subplot(1,3,2)\n",
    "plt.pie(c_pie_df['Value'], \n",
    "    labels=c_pie_df['Column'],\n",
    "    shadow=False,\n",
    "    colors=colors,\n",
    "    startangle=90,\n",
    "    autopct='%1.1f%%',\n",
    "    )\n",
    "plt.axis('equal')\n",
    "plt.tight_layout()\n",
    "plt.title('Cherbourg Passengers', fontsize = 15)\n",
    "\n",
    "plt.subplot(1,3,3)\n",
    "plt.pie(q_pie_df['Value'], \n",
    "    labels=q_pie_df['Column'],\n",
    "    shadow=False,\n",
    "    colors=colors,\n",
    "    startangle=90,\n",
    "    autopct='%1.1f%%',\n",
    "    )\n",
    "plt.axis('equal')\n",
    "plt.tight_layout()\n",
    "plt.title('Queenstown Passengers', fontsize = 15)\n",
    "\n",
    "plt.show()"
   ]
  },
  {
   "cell_type": "markdown",
   "metadata": {},
   "source": [
    "So we can see only passengers from Cherbourg have the survival ratio greater than the dead ratio among themselves, other two places have survival ratio lower than the dead one."
   ]
  },
  {
   "cell_type": "markdown",
   "metadata": {},
   "source": [
    "Now we need to find if there any relationship between ticket number or cabin number with survival rate."
   ]
  },
  {
   "cell_type": "markdown",
   "metadata": {},
   "source": [
    "# Ticket Number"
   ]
  },
  {
   "cell_type": "code",
   "execution_count": 96,
   "metadata": {},
   "outputs": [
    {
     "name": "stdout",
     "output_type": "stream",
     "text": [
      "0\n"
     ]
    },
    {
     "data": {
      "text/html": [
       "<div>\n",
       "<style>\n",
       "    .dataframe thead tr:only-child th {\n",
       "        text-align: right;\n",
       "    }\n",
       "\n",
       "    .dataframe thead th {\n",
       "        text-align: left;\n",
       "    }\n",
       "\n",
       "    .dataframe tbody tr th {\n",
       "        vertical-align: top;\n",
       "    }\n",
       "</style>\n",
       "<table border=\"1\" class=\"dataframe\">\n",
       "  <thead>\n",
       "    <tr style=\"text-align: right;\">\n",
       "      <th></th>\n",
       "      <th>PassengerId</th>\n",
       "      <th>Survived</th>\n",
       "      <th>Pclass</th>\n",
       "      <th>Name</th>\n",
       "      <th>Sex</th>\n",
       "      <th>Age</th>\n",
       "      <th>SibSp</th>\n",
       "      <th>Parch</th>\n",
       "      <th>Ticket</th>\n",
       "      <th>Fare</th>\n",
       "      <th>Cabin</th>\n",
       "      <th>Embarked</th>\n",
       "    </tr>\n",
       "  </thead>\n",
       "  <tbody>\n",
       "  </tbody>\n",
       "</table>\n",
       "</div>"
      ],
      "text/plain": [
       "Empty DataFrame\n",
       "Columns: [PassengerId, Survived, Pclass, Name, Sex, Age, SibSp, Parch, Ticket, Fare, Cabin, Embarked]\n",
       "Index: []"
      ]
     },
     "execution_count": 96,
     "metadata": {},
     "output_type": "execute_result"
    }
   ],
   "source": [
    "#Find if any erroneous data\n",
    "ticket_error_data = titanic_data[pd.isnull(titanic_data['Ticket'])]\n",
    "print(ticket_error_data.shape[0])\n",
    "ticket_error_data.head()"
   ]
  },
  {
   "cell_type": "code",
   "execution_count": 97,
   "metadata": {},
   "outputs": [
    {
     "data": {
      "text/plain": [
       "CA. 2343             7\n",
       "347082               7\n",
       "1601                 7\n",
       "347088               6\n",
       "CA 2144              6\n",
       "3101295              6\n",
       "382652               5\n",
       "S.O.C. 14879         5\n",
       "PC 17757             4\n",
       "4133                 4\n",
       "LINE                 4\n",
       "349909               4\n",
       "347077               4\n",
       "W./C. 6608           4\n",
       "113760               4\n",
       "2666                 4\n",
       "113781               4\n",
       "19950                4\n",
       "17421                4\n",
       "347742               3\n",
       "239853               3\n",
       "110152               3\n",
       "24160                3\n",
       "13502                3\n",
       "PC 17572             3\n",
       "C.A. 34651           3\n",
       "248727               3\n",
       "35273                3\n",
       "F.C.C. 13529         3\n",
       "PC 17755             3\n",
       "                    ..\n",
       "330877               1\n",
       "315094               1\n",
       "236852               1\n",
       "4137                 1\n",
       "4136                 1\n",
       "226593               1\n",
       "4134                 1\n",
       "374746               1\n",
       "110813               1\n",
       "C.A. 6212            1\n",
       "349219               1\n",
       "34218                1\n",
       "343120               1\n",
       "315086               1\n",
       "SC/AH 3085           1\n",
       "STON/O 2. 3101273    1\n",
       "345777               1\n",
       "STON/O 2. 3101274    1\n",
       "STON/O 2. 3101275    1\n",
       "113794               1\n",
       "2649                 1\n",
       "374887               1\n",
       "349213               1\n",
       "349210               1\n",
       "349242               1\n",
       "349216               1\n",
       "112052               1\n",
       "315088               1\n",
       "349215               1\n",
       "W./C. 14258          1\n",
       "Name: Ticket, Length: 681, dtype: int64"
      ]
     },
     "execution_count": 97,
     "metadata": {},
     "output_type": "execute_result"
    }
   ],
   "source": [
    "titanic_data['Ticket'].value_counts()"
   ]
  },
  {
   "cell_type": "markdown",
   "metadata": {},
   "source": [
    "If we cross check the passengers having same ticket number, generelly they are of same family as per their name. Other than that, every passenger is having a unique ticket number. And it is not practical to find any relation between ticket number and the survival rate. One interesting analysis can be done by checking the odd and even ticket number. Though this is very much strange fact, but can be done."
   ]
  },
  {
   "cell_type": "markdown",
   "metadata": {},
   "source": [
    "# Survival rate with cabin number."
   ]
  },
  {
   "cell_type": "code",
   "execution_count": 98,
   "metadata": {},
   "outputs": [
    {
     "data": {
      "text/plain": [
       "204"
      ]
     },
     "execution_count": 98,
     "metadata": {},
     "output_type": "execute_result"
    }
   ],
   "source": [
    "titanic_data['Cabin'].count()"
   ]
  },
  {
   "cell_type": "code",
   "execution_count": 99,
   "metadata": {},
   "outputs": [
    {
     "name": "stdout",
     "output_type": "stream",
     "text": [
      "(687, 204)\n"
     ]
    },
    {
     "data": {
      "text/html": [
       "<div>\n",
       "<style>\n",
       "    .dataframe thead tr:only-child th {\n",
       "        text-align: right;\n",
       "    }\n",
       "\n",
       "    .dataframe thead th {\n",
       "        text-align: left;\n",
       "    }\n",
       "\n",
       "    .dataframe tbody tr th {\n",
       "        vertical-align: top;\n",
       "    }\n",
       "</style>\n",
       "<table border=\"1\" class=\"dataframe\">\n",
       "  <thead>\n",
       "    <tr style=\"text-align: right;\">\n",
       "      <th></th>\n",
       "      <th>PassengerId</th>\n",
       "      <th>Survived</th>\n",
       "      <th>Pclass</th>\n",
       "      <th>Name</th>\n",
       "      <th>Sex</th>\n",
       "      <th>Age</th>\n",
       "      <th>SibSp</th>\n",
       "      <th>Parch</th>\n",
       "      <th>Ticket</th>\n",
       "      <th>Fare</th>\n",
       "      <th>Cabin</th>\n",
       "      <th>Embarked</th>\n",
       "    </tr>\n",
       "  </thead>\n",
       "  <tbody>\n",
       "    <tr>\n",
       "      <th>0</th>\n",
       "      <td>1</td>\n",
       "      <td>0</td>\n",
       "      <td>3</td>\n",
       "      <td>Braund, Mr. Owen Harris</td>\n",
       "      <td>male</td>\n",
       "      <td>22.0</td>\n",
       "      <td>1</td>\n",
       "      <td>0</td>\n",
       "      <td>A/5 21171</td>\n",
       "      <td>7.2500</td>\n",
       "      <td>NaN</td>\n",
       "      <td>S</td>\n",
       "    </tr>\n",
       "    <tr>\n",
       "      <th>2</th>\n",
       "      <td>3</td>\n",
       "      <td>1</td>\n",
       "      <td>3</td>\n",
       "      <td>Heikkinen, Miss. Laina</td>\n",
       "      <td>female</td>\n",
       "      <td>26.0</td>\n",
       "      <td>0</td>\n",
       "      <td>0</td>\n",
       "      <td>STON/O2. 3101282</td>\n",
       "      <td>7.9250</td>\n",
       "      <td>NaN</td>\n",
       "      <td>S</td>\n",
       "    </tr>\n",
       "    <tr>\n",
       "      <th>4</th>\n",
       "      <td>5</td>\n",
       "      <td>0</td>\n",
       "      <td>3</td>\n",
       "      <td>Allen, Mr. William Henry</td>\n",
       "      <td>male</td>\n",
       "      <td>35.0</td>\n",
       "      <td>0</td>\n",
       "      <td>0</td>\n",
       "      <td>373450</td>\n",
       "      <td>8.0500</td>\n",
       "      <td>NaN</td>\n",
       "      <td>S</td>\n",
       "    </tr>\n",
       "    <tr>\n",
       "      <th>5</th>\n",
       "      <td>6</td>\n",
       "      <td>0</td>\n",
       "      <td>3</td>\n",
       "      <td>Moran, Mr. James</td>\n",
       "      <td>male</td>\n",
       "      <td>NaN</td>\n",
       "      <td>0</td>\n",
       "      <td>0</td>\n",
       "      <td>330877</td>\n",
       "      <td>8.4583</td>\n",
       "      <td>NaN</td>\n",
       "      <td>Q</td>\n",
       "    </tr>\n",
       "    <tr>\n",
       "      <th>7</th>\n",
       "      <td>8</td>\n",
       "      <td>0</td>\n",
       "      <td>3</td>\n",
       "      <td>Palsson, Master. Gosta Leonard</td>\n",
       "      <td>male</td>\n",
       "      <td>2.0</td>\n",
       "      <td>3</td>\n",
       "      <td>1</td>\n",
       "      <td>349909</td>\n",
       "      <td>21.0750</td>\n",
       "      <td>NaN</td>\n",
       "      <td>S</td>\n",
       "    </tr>\n",
       "  </tbody>\n",
       "</table>\n",
       "</div>"
      ],
      "text/plain": [
       "   PassengerId  Survived  Pclass                            Name     Sex  \\\n",
       "0            1         0       3         Braund, Mr. Owen Harris    male   \n",
       "2            3         1       3          Heikkinen, Miss. Laina  female   \n",
       "4            5         0       3        Allen, Mr. William Henry    male   \n",
       "5            6         0       3                Moran, Mr. James    male   \n",
       "7            8         0       3  Palsson, Master. Gosta Leonard    male   \n",
       "\n",
       "    Age  SibSp  Parch            Ticket     Fare Cabin Embarked  \n",
       "0  22.0      1      0         A/5 21171   7.2500   NaN        S  \n",
       "2  26.0      0      0  STON/O2. 3101282   7.9250   NaN        S  \n",
       "4  35.0      0      0            373450   8.0500   NaN        S  \n",
       "5   NaN      0      0            330877   8.4583   NaN        Q  \n",
       "7   2.0      3      1            349909  21.0750   NaN        S  "
      ]
     },
     "execution_count": 99,
     "metadata": {},
     "output_type": "execute_result"
    }
   ],
   "source": [
    "cabin_error_data = titanic_data[pd.isnull(titanic_data['Cabin'])]\n",
    "no_cabin_count = cabin_error_data.shape[0]\n",
    "with_cabin_data =  titanic_data[pd.notnull(titanic_data['Cabin'])]\n",
    "with_cabin_count = with_cabin_data.shape[0]\n",
    "print(no_cabin_count,with_cabin_count)\n",
    "cabin_error_data.head()"
   ]
  },
  {
   "cell_type": "markdown",
   "metadata": {},
   "source": [
    "It is very unlikely to get any relation with cabin number. We can divide the list in two group, having cabin details and having no cabin details and then can find their survival rate. If there is no cabin details in the file, we are assuming those passengers were not assiged any cabin."
   ]
  },
  {
   "cell_type": "code",
   "execution_count": 100,
   "metadata": {},
   "outputs": [
    {
     "name": "stdout",
     "output_type": "stream",
     "text": [
      "(206, 481, 136, 68)\n"
     ]
    }
   ],
   "source": [
    "no_cabin_survived_cnt = titanic_data[pd.isnull(titanic_data['Cabin']) & (titanic_data['Survived'] == 1)].Survived.eq(1).sum()\n",
    "no_cabin_died_cnt = titanic_data[pd.isnull(titanic_data['Cabin']) & (titanic_data['Survived'] == 0)].Survived.eq(0).sum()\n",
    "wt_cabin_survived_cnt = titanic_data[pd.notnull(titanic_data['Cabin']) & (titanic_data['Survived'] == 1)].Survived.eq(1).sum()\n",
    "wt_cabin_died_cnt = titanic_data[pd.notnull(titanic_data['Cabin']) & (titanic_data['Survived'] == 0)].Survived.eq(0).sum()\n",
    "\n",
    "print(no_cabin_survived_cnt, no_cabin_died_cnt, wt_cabin_survived_cnt,wt_cabin_died_cnt )"
   ]
  },
  {
   "cell_type": "code",
   "execution_count": 101,
   "metadata": {},
   "outputs": [
    {
     "data": {
      "text/plain": [
       "891"
      ]
     },
     "execution_count": 101,
     "metadata": {},
     "output_type": "execute_result"
    }
   ],
   "source": [
    "#Quick check on values\n",
    "206+481+136+68"
   ]
  },
  {
   "cell_type": "markdown",
   "metadata": {},
   "source": [
    "Passenger with cabin has survival count as 136 which is higher than 68,the dead count of passenger with cabin.\n",
    "But passenger with no cabin details have died count 481, which is more than twice the survived people having no cabin details. So passengers with cabin assigned were more likely to survive."
   ]
  },
  {
   "cell_type": "code",
   "execution_count": 102,
   "metadata": {
    "collapsed": true
   },
   "outputs": [],
   "source": [
    "cabin_pie_data = [{'Column' : 'Passenger with NO Cabin', 'Value' : no_cabin_count},\n",
    "                 {'Column' : 'Passenger with cabin', 'Value' : with_cabin_count}]"
   ]
  },
  {
   "cell_type": "code",
   "execution_count": 103,
   "metadata": {},
   "outputs": [
    {
     "data": {
      "image/png": "[encoded data removed]",
      "text/plain": [
       "<matplotlib.figure.Figure at 0xc732320>"
      ]
     },
     "metadata": {},
     "output_type": "display_data"
    }
   ],
   "source": [
    "#Calling the method to plot the diagram\n",
    "title_cabin_data = 'Passenger with and without cabin'\n",
    "custom_pieplot(cabin_pie_data, title_cabin_data)"
   ]
  },
  {
   "cell_type": "markdown",
   "metadata": {},
   "source": [
    "77.1% passenger have no cabin and rest are assigned with cabin"
   ]
  },
  {
   "cell_type": "code",
   "execution_count": 104,
   "metadata": {
    "collapsed": true
   },
   "outputs": [],
   "source": [
    "#Create list for pie plot\n",
    "no_cabin_pie_data = [{'Column' : 'Survived', 'Value' : no_cabin_survived_cnt},\n",
    "                     {'Column' : 'Died', 'Value' : no_cabin_died_cnt}]\n",
    "             \n",
    "wt_cabin_pie_data = [{'Column' : 'Survived', 'Value' : wt_cabin_survived_cnt},\n",
    "                     {'Column' : 'Died', 'Value' : wt_cabin_died_cnt}]\n",
    "\n",
    "no_cabin_pie_df = pd.DataFrame(no_cabin_pie_data)\n",
    "wt_cabin_pie_df = pd.DataFrame(wt_cabin_pie_data)"
   ]
  },
  {
   "cell_type": "code",
   "execution_count": 105,
   "metadata": {},
   "outputs": [
    {
     "data": {
      "text/plain": [
       "<matplotlib.text.Text at 0xbb71a20>"
      ]
     },
     "execution_count": 105,
     "metadata": {},
     "output_type": "execute_result"
    },
    {
     "data": {
      "image/png": "[encoded data removed]",
      "text/plain": [
       "<matplotlib.figure.Figure at 0xc2ed5c0>"
      ]
     },
     "metadata": {},
     "output_type": "display_data"
    }
   ],
   "source": [
    "#Plot the pie charts\n",
    "fig = plt.figure(figsize = (15,4))\n",
    "#Subplot 1, Passenger with no cabin \n",
    "plt.subplot(1,2,1)\n",
    "plt.pie(no_cabin_pie_df['Value'], \n",
    "    labels=no_cabin_pie_df['Column'],\n",
    "    shadow=False,\n",
    "    colors= colors,\n",
    "    startangle=90,\n",
    "    autopct='%1.1f%%',\n",
    "    )\n",
    "plt.axis('equal')\n",
    "plt.tight_layout()\n",
    "plt.title('Survival Rate for Passengers with no Cabin', fontsize = 15)\n",
    "\n",
    "#Subplot 2, Passenger with no cabin \n",
    "plt.subplot(1,2,2)\n",
    "plt.pie(wt_cabin_pie_df['Value'], \n",
    "    labels=wt_cabin_pie_df['Column'],\n",
    "    shadow=False,\n",
    "    colors=colors,\n",
    "    startangle=90,\n",
    "    autopct='%1.1f%%',\n",
    "    )\n",
    "plt.axis('equal')\n",
    "plt.tight_layout()\n",
    "plt.title('Survival Rate for Passengers with Cabin', fontsize = 15)"
   ]
  },
  {
   "cell_type": "markdown",
   "metadata": {},
   "source": [
    "It is clear that passengers with cabin were more likely to survive. But from there data, we can't conclude the fact that money is the main key for the survival. We can see passenegr's with cabin details paid as less fare as 5 unit. So it is not related to money directly."
   ]
  },
  {
   "cell_type": "markdown",
   "metadata": {},
   "source": [
    "# Summery:\n",
    "\n",
    "We can summerize that, passengers with age range 20-40 are most who died, 60.26% people of this age range died in the accident. Female passengers were given preference during the rescue operation and during the process of sending away from the ship. Ticket fare is also a key factor for the survival case.Only 32.38% of passenegrs with fare below mean survived, where the survival ratio is 67.62% among the passengers with fare above mean. The passengers with higher fare had more chance to survive.\n",
    "Half of the passengers with family members had survived, where as this ratio is only about 30% for single passenger. But in this case also, it is not directly related with ticket fare. Many single passengers with higher FARE had died. \n",
    "\n",
    "The port of embarkation has some interesting result. Only passengers from Cherbourg has the survival rate higher than died. \n",
    "For cabin details, most of the records are not having cabin entry. It is not sure if those are missing entry or passengers were not assigned to cabin. It has been assumed to that passengers were not assigned to cabin and the analysis has been done based on that.  For ticket number, no such practical relation is found. "
   ]
  }
 ],
 "metadata": {
  "kernelspec": {
   "display_name": "Python 2",
   "language": "python",
   "name": "python2"
  },
  "language_info": {
   "codemirror_mode": {
    "name": "ipython",
    "version": 2
   },
   "file_extension": ".py",
   "mimetype": "text/x-python",
   "name": "python",
   "nbconvert_exporter": "python",
   "pygments_lexer": "ipython2",
   "version": "2.7.13"
  }
 },
 "nbformat": 4,
 "nbformat_minor": 2
}
